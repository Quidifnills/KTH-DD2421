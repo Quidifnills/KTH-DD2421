{
 "cells": [
  {
   "cell_type": "markdown",
   "id": "0a369226",
   "metadata": {},
   "source": [
    "# DD2421 Machine Learning: Programming Challenge"
   ]
  },
  {
   "cell_type": "code",
   "execution_count": 109,
   "id": "76e6662b",
   "metadata": {},
   "outputs": [],
   "source": [
    "import pandas as pd\n",
    "from sklearn.model_selection import StratifiedKFold, cross_val_score, train_test_split\n",
    "from sklearn.preprocessing import StandardScaler\n",
    "from sklearn.metrics import accuracy_score, precision_score, recall_score, f1_score\n",
    "from sklearn.neighbors import KNeighborsClassifier\n",
    "from sklearn.tree import DecisionTreeClassifier\n",
    "from sklearn.ensemble import (RandomForestClassifier, GradientBoostingClassifier, \n",
    "                               ExtraTreesClassifier, AdaBoostClassifier, BaggingClassifier)\n",
    "from sklearn.neural_network import MLPClassifier\n",
    "from sklearn.svm import SVC\n",
    "from sklearn.linear_model import RidgeClassifierCV\n",
    "import numpy as np\n",
    "import matplotlib.pyplot as plt\n",
    "import pandas as pd\n",
    "import seaborn as sb\n",
    "import time"
   ]
  },
  {
   "cell_type": "code",
   "execution_count": 110,
   "id": "d28b4f40",
   "metadata": {},
   "outputs": [
    {
     "data": {
      "application/vnd.microsoft.datawrangler.viewer.v0+json": {
       "columns": [
        {
         "name": "index",
         "rawType": "int64",
         "type": "integer"
        },
        {
         "name": "y",
         "rawType": "object",
         "type": "string"
        },
        {
         "name": "x1",
         "rawType": "float64",
         "type": "float"
        },
        {
         "name": "x2",
         "rawType": "float64",
         "type": "float"
        },
        {
         "name": "x3",
         "rawType": "float64",
         "type": "float"
        },
        {
         "name": "x4",
         "rawType": "float64",
         "type": "float"
        },
        {
         "name": "x5",
         "rawType": "float64",
         "type": "float"
        },
        {
         "name": "x6",
         "rawType": "float64",
         "type": "float"
        },
        {
         "name": "x7",
         "rawType": "object",
         "type": "string"
        },
        {
         "name": "x8",
         "rawType": "float64",
         "type": "float"
        },
        {
         "name": "x9",
         "rawType": "float64",
         "type": "float"
        },
        {
         "name": "x10",
         "rawType": "float64",
         "type": "float"
        },
        {
         "name": "x11",
         "rawType": "float64",
         "type": "float"
        },
        {
         "name": "x12",
         "rawType": "bool",
         "type": "boolean"
        },
        {
         "name": "x13",
         "rawType": "float64",
         "type": "float"
        }
       ],
       "ref": "2f476f5d-9467-4443-9300-cef3637a40c6",
       "rows": [
        [
         "0",
         "Jorgsuto",
         "99.62776",
         "-0.7473",
         "-106.04085",
         "-1.21694",
         "199.59889",
         "-88.84034",
         "Slängpolskorgris",
         "1.36603",
         "2.62967",
         "12.1771",
         "-3.38007",
         "True",
         "445.11836"
        ],
        [
         "1",
         "Andjorg",
         "100.22296",
         "0.85161",
         "-98.91119",
         "-1.23724",
         "200.1924",
         "-89.88662",
         "Polkagris",
         "-2.23901",
         "0.6537",
         "10.72266",
         "-2.38136",
         "True",
         "451.65919"
        ],
        [
         "2",
         "Andsuto",
         "100.12711",
         "0.22396",
         "-96.58029",
         "-1.18725",
         "200.10113",
         "-89.18542",
         "Polkagris",
         "0.38295",
         "-0.58657",
         "12.60082",
         "-1.28045",
         "True",
         "452.3454"
        ],
        [
         "3",
         "Jorgsuto",
         "100.81843",
         "0.0212",
         "-102.78871",
         "-1.26271",
         "200.78442",
         "-92.007",
         "Polkagris",
         "-0.28207",
         "0.81744",
         "13.5745",
         "0.12083",
         "True",
         "452.6978"
        ],
        [
         "4",
         "Jorgsuto",
         "101.07489",
         "1.18863",
         "-101.29639",
         "-1.23077",
         "201.04424",
         "-92.83613",
         "Schottisgris",
         "1.31717",
         "0.69887",
         "12.50238",
         "-0.71997",
         "True",
         "454.72627"
        ]
       ],
       "shape": {
        "columns": 14,
        "rows": 5
       }
      },
      "text/html": [
       "<div>\n",
       "<style scoped>\n",
       "    .dataframe tbody tr th:only-of-type {\n",
       "        vertical-align: middle;\n",
       "    }\n",
       "\n",
       "    .dataframe tbody tr th {\n",
       "        vertical-align: top;\n",
       "    }\n",
       "\n",
       "    .dataframe thead th {\n",
       "        text-align: right;\n",
       "    }\n",
       "</style>\n",
       "<table border=\"1\" class=\"dataframe\">\n",
       "  <thead>\n",
       "    <tr style=\"text-align: right;\">\n",
       "      <th></th>\n",
       "      <th>y</th>\n",
       "      <th>x1</th>\n",
       "      <th>x2</th>\n",
       "      <th>x3</th>\n",
       "      <th>x4</th>\n",
       "      <th>x5</th>\n",
       "      <th>x6</th>\n",
       "      <th>x7</th>\n",
       "      <th>x8</th>\n",
       "      <th>x9</th>\n",
       "      <th>x10</th>\n",
       "      <th>x11</th>\n",
       "      <th>x12</th>\n",
       "      <th>x13</th>\n",
       "    </tr>\n",
       "  </thead>\n",
       "  <tbody>\n",
       "    <tr>\n",
       "      <th>0</th>\n",
       "      <td>Jorgsuto</td>\n",
       "      <td>99.62776</td>\n",
       "      <td>-0.74730</td>\n",
       "      <td>-106.04085</td>\n",
       "      <td>-1.21694</td>\n",
       "      <td>199.59889</td>\n",
       "      <td>-88.84034</td>\n",
       "      <td>Slängpolskorgris</td>\n",
       "      <td>1.36603</td>\n",
       "      <td>2.62967</td>\n",
       "      <td>12.17710</td>\n",
       "      <td>-3.38007</td>\n",
       "      <td>True</td>\n",
       "      <td>445.11836</td>\n",
       "    </tr>\n",
       "    <tr>\n",
       "      <th>1</th>\n",
       "      <td>Andjorg</td>\n",
       "      <td>100.22296</td>\n",
       "      <td>0.85161</td>\n",
       "      <td>-98.91119</td>\n",
       "      <td>-1.23724</td>\n",
       "      <td>200.19240</td>\n",
       "      <td>-89.88662</td>\n",
       "      <td>Polkagris</td>\n",
       "      <td>-2.23901</td>\n",
       "      <td>0.65370</td>\n",
       "      <td>10.72266</td>\n",
       "      <td>-2.38136</td>\n",
       "      <td>True</td>\n",
       "      <td>451.65919</td>\n",
       "    </tr>\n",
       "    <tr>\n",
       "      <th>2</th>\n",
       "      <td>Andsuto</td>\n",
       "      <td>100.12711</td>\n",
       "      <td>0.22396</td>\n",
       "      <td>-96.58029</td>\n",
       "      <td>-1.18725</td>\n",
       "      <td>200.10113</td>\n",
       "      <td>-89.18542</td>\n",
       "      <td>Polkagris</td>\n",
       "      <td>0.38295</td>\n",
       "      <td>-0.58657</td>\n",
       "      <td>12.60082</td>\n",
       "      <td>-1.28045</td>\n",
       "      <td>True</td>\n",
       "      <td>452.34540</td>\n",
       "    </tr>\n",
       "    <tr>\n",
       "      <th>3</th>\n",
       "      <td>Jorgsuto</td>\n",
       "      <td>100.81843</td>\n",
       "      <td>0.02120</td>\n",
       "      <td>-102.78871</td>\n",
       "      <td>-1.26271</td>\n",
       "      <td>200.78442</td>\n",
       "      <td>-92.00700</td>\n",
       "      <td>Polkagris</td>\n",
       "      <td>-0.28207</td>\n",
       "      <td>0.81744</td>\n",
       "      <td>13.57450</td>\n",
       "      <td>0.12083</td>\n",
       "      <td>True</td>\n",
       "      <td>452.69780</td>\n",
       "    </tr>\n",
       "    <tr>\n",
       "      <th>4</th>\n",
       "      <td>Jorgsuto</td>\n",
       "      <td>101.07489</td>\n",
       "      <td>1.18863</td>\n",
       "      <td>-101.29639</td>\n",
       "      <td>-1.23077</td>\n",
       "      <td>201.04424</td>\n",
       "      <td>-92.83613</td>\n",
       "      <td>Schottisgris</td>\n",
       "      <td>1.31717</td>\n",
       "      <td>0.69887</td>\n",
       "      <td>12.50238</td>\n",
       "      <td>-0.71997</td>\n",
       "      <td>True</td>\n",
       "      <td>454.72627</td>\n",
       "    </tr>\n",
       "  </tbody>\n",
       "</table>\n",
       "</div>"
      ],
      "text/plain": [
       "          y         x1       x2         x3       x4         x5        x6  \\\n",
       "0  Jorgsuto   99.62776 -0.74730 -106.04085 -1.21694  199.59889 -88.84034   \n",
       "1   Andjorg  100.22296  0.85161  -98.91119 -1.23724  200.19240 -89.88662   \n",
       "2   Andsuto  100.12711  0.22396  -96.58029 -1.18725  200.10113 -89.18542   \n",
       "3  Jorgsuto  100.81843  0.02120 -102.78871 -1.26271  200.78442 -92.00700   \n",
       "4  Jorgsuto  101.07489  1.18863 -101.29639 -1.23077  201.04424 -92.83613   \n",
       "\n",
       "                 x7       x8       x9       x10      x11   x12        x13  \n",
       "0  Slängpolskorgris  1.36603  2.62967  12.17710 -3.38007  True  445.11836  \n",
       "1         Polkagris -2.23901  0.65370  10.72266 -2.38136  True  451.65919  \n",
       "2         Polkagris  0.38295 -0.58657  12.60082 -1.28045  True  452.34540  \n",
       "3         Polkagris -0.28207  0.81744  13.57450  0.12083  True  452.69780  \n",
       "4      Schottisgris  1.31717  0.69887  12.50238 -0.71997  True  454.72627  "
      ]
     },
     "execution_count": 110,
     "metadata": {},
     "output_type": "execute_result"
    }
   ],
   "source": [
    "df = pd.read_csv('TrainOnMe_orig.csv')\n",
    "df.head()"
   ]
  },
  {
   "cell_type": "code",
   "execution_count": 111,
   "id": "870da31d",
   "metadata": {},
   "outputs": [
    {
     "name": "stdout",
     "output_type": "stream",
     "text": [
      "<class 'pandas.core.frame.DataFrame'>\n",
      "RangeIndex: 1000 entries, 0 to 999\n",
      "Data columns (total 14 columns):\n",
      " #   Column  Non-Null Count  Dtype  \n",
      "---  ------  --------------  -----  \n",
      " 0   y       1000 non-null   object \n",
      " 1   x1      1000 non-null   float64\n",
      " 2   x2      1000 non-null   float64\n",
      " 3   x3      1000 non-null   float64\n",
      " 4   x4      1000 non-null   float64\n",
      " 5   x5      1000 non-null   float64\n",
      " 6   x6      1000 non-null   float64\n",
      " 7   x7      1000 non-null   object \n",
      " 8   x8      1000 non-null   float64\n",
      " 9   x9      1000 non-null   float64\n",
      " 10  x10     1000 non-null   float64\n",
      " 11  x11     1000 non-null   float64\n",
      " 12  x12     1000 non-null   bool   \n",
      " 13  x13     1000 non-null   float64\n",
      "dtypes: bool(1), float64(11), object(2)\n",
      "memory usage: 102.7+ KB\n"
     ]
    }
   ],
   "source": [
    "df.info()"
   ]
  },
  {
   "cell_type": "code",
   "execution_count": null,
   "id": "dfef1939",
   "metadata": {},
   "outputs": [
    {
     "data": {
      "text/plain": [
       "False"
      ]
     },
     "execution_count": 112,
     "metadata": {},
     "output_type": "execute_result"
    }
   ],
   "source": [
    "df.isna().any().any()   # True 代表表里存在至少一个 NaN/NaT"
   ]
  },
  {
   "cell_type": "code",
   "execution_count": 113,
   "id": "0538136c",
   "metadata": {},
   "outputs": [
    {
     "data": {
      "text/plain": [
       "(1000, 14)"
      ]
     },
     "execution_count": 113,
     "metadata": {},
     "output_type": "execute_result"
    }
   ],
   "source": [
    "df.shape"
   ]
  },
  {
   "cell_type": "code",
   "execution_count": 114,
   "id": "453256e0",
   "metadata": {},
   "outputs": [
    {
     "data": {
      "text/plain": [
       "(1000, 14)"
      ]
     },
     "execution_count": 114,
     "metadata": {},
     "output_type": "execute_result"
    }
   ],
   "source": [
    "df.drop_duplicates().shape"
   ]
  },
  {
   "cell_type": "code",
   "execution_count": 115,
   "id": "7a596a97",
   "metadata": {},
   "outputs": [
    {
     "data": {
      "application/vnd.microsoft.datawrangler.viewer.v0+json": {
       "columns": [
        {
         "name": "index",
         "rawType": "object",
         "type": "string"
        },
        {
         "name": "0",
         "rawType": "int64",
         "type": "integer"
        }
       ],
       "ref": "3d0a8dd7-83be-4ad0-a2ff-517f58a6ab90",
       "rows": [
        [
         "y",
         "0"
        ],
        [
         "x1",
         "0"
        ],
        [
         "x2",
         "0"
        ],
        [
         "x3",
         "0"
        ],
        [
         "x4",
         "0"
        ],
        [
         "x5",
         "0"
        ],
        [
         "x6",
         "0"
        ],
        [
         "x7",
         "0"
        ],
        [
         "x8",
         "0"
        ],
        [
         "x9",
         "0"
        ],
        [
         "x10",
         "0"
        ],
        [
         "x11",
         "0"
        ],
        [
         "x12",
         "0"
        ],
        [
         "x13",
         "0"
        ]
       ],
       "shape": {
        "columns": 1,
        "rows": 14
       }
      },
      "text/plain": [
       "y      0\n",
       "x1     0\n",
       "x2     0\n",
       "x3     0\n",
       "x4     0\n",
       "x5     0\n",
       "x6     0\n",
       "x7     0\n",
       "x8     0\n",
       "x9     0\n",
       "x10    0\n",
       "x11    0\n",
       "x12    0\n",
       "x13    0\n",
       "dtype: int64"
      ]
     },
     "execution_count": 115,
     "metadata": {},
     "output_type": "execute_result"
    }
   ],
   "source": [
    "df.isnull().sum()\n"
   ]
  },
  {
   "cell_type": "code",
   "execution_count": 116,
   "id": "a6f2c701",
   "metadata": {},
   "outputs": [
    {
     "data": {
      "application/vnd.microsoft.datawrangler.viewer.v0+json": {
       "columns": [
        {
         "name": "index",
         "rawType": "object",
         "type": "string"
        },
        {
         "name": "y",
         "rawType": "object",
         "type": "string"
        },
        {
         "name": "x1",
         "rawType": "float64",
         "type": "float"
        },
        {
         "name": "x2",
         "rawType": "float64",
         "type": "float"
        },
        {
         "name": "x3",
         "rawType": "float64",
         "type": "float"
        },
        {
         "name": "x4",
         "rawType": "float64",
         "type": "float"
        },
        {
         "name": "x5",
         "rawType": "float64",
         "type": "float"
        },
        {
         "name": "x6",
         "rawType": "float64",
         "type": "float"
        },
        {
         "name": "x7",
         "rawType": "object",
         "type": "string"
        },
        {
         "name": "x8",
         "rawType": "float64",
         "type": "float"
        },
        {
         "name": "x9",
         "rawType": "float64",
         "type": "float"
        },
        {
         "name": "x10",
         "rawType": "float64",
         "type": "float"
        },
        {
         "name": "x11",
         "rawType": "float64",
         "type": "float"
        },
        {
         "name": "x12",
         "rawType": "object",
         "type": "string"
        },
        {
         "name": "x13",
         "rawType": "float64",
         "type": "float"
        }
       ],
       "ref": "ca20b615-2cb2-4952-9b43-9ea759859687",
       "rows": [
        [
         "count",
         "1000",
         "1000.0",
         "1000.0",
         "1000.0",
         "1000.0",
         "1000.0",
         "1000.0",
         "1000",
         "1000.0",
         "1000.0",
         "1000.0",
         "1000.0",
         "1000",
         "1000.0"
        ],
        [
         "unique",
         "3",
         null,
         null,
         null,
         null,
         null,
         null,
         "5",
         null,
         null,
         null,
         null,
         "1",
         null
        ],
        [
         "top",
         "Andjorg",
         null,
         null,
         null,
         null,
         null,
         null,
         "Polkagris",
         null,
         null,
         null,
         null,
         "True",
         null
        ],
        [
         "freq",
         "409",
         null,
         null,
         null,
         null,
         null,
         null,
         "354",
         null,
         null,
         null,
         null,
         "1000",
         null
        ],
        [
         "mean",
         null,
         "99.99352866",
         "-0.031665099999999995",
         "-99.88842838000001",
         "-1.22094022",
         "199.96445622",
         "-91.14400932000001",
         null,
         "-0.03531001",
         "-0.03709318",
         "11.14308289",
         "-0.41378554999999995",
         null,
         "450.02342874"
        ],
        [
         "std",
         null,
         "1.0189631277720328",
         "0.6932558974753654",
         "3.129412638187304",
         "0.018171094210762774",
         "1.018921945845626",
         "1.8152080097138361",
         null,
         "1.182680837547477",
         "1.1791308828654328",
         "1.3949277300717307",
         "2.2401436933251495",
         null,
         "4.814187663827051"
        ],
        [
         "min",
         null,
         "96.76734",
         "-2.02493",
         "-109.09381",
         "-1.26319",
         "196.73928",
         "-98.26448",
         null,
         "-4.72416",
         "-4.14747",
         "6.65699",
         "-5.8136",
         null,
         "433.83772"
        ],
        [
         "25%",
         null,
         "99.33004",
         "-0.4879025",
         "-102.05951250000001",
         "-1.23429",
         "199.3026475",
         "-92.387215",
         null,
         "-0.758445",
         "-0.7693275",
         "10.2214725",
         "-2.0567075",
         null,
         "446.6543575"
        ],
        [
         "50%",
         null,
         "100.02504",
         "-0.03227",
         "-99.92499000000001",
         "-1.22493",
         "199.99618500000003",
         "-91.07374999999999",
         null,
         "0.00131",
         "-0.011949999999999999",
         "11.19302",
         "-0.7937000000000001",
         null,
         "450.1815"
        ],
        [
         "75%",
         null,
         "100.6892575",
         "0.4610075",
         "-97.7730225",
         "-1.2066325",
         "200.65911",
         "-89.9310275",
         null,
         "0.73222",
         "0.6769975",
         "12.0034775",
         "1.29003",
         null,
         "453.389245"
        ],
        [
         "max",
         null,
         "102.96679",
         "2.04084",
         "-89.94459",
         "-1.17425",
         "202.93685",
         "-84.65406",
         null,
         "3.3481",
         "4.2645",
         "16.05604",
         "5.94766",
         null,
         "463.43759"
        ]
       ],
       "shape": {
        "columns": 14,
        "rows": 11
       }
      },
      "text/html": [
       "<div>\n",
       "<style scoped>\n",
       "    .dataframe tbody tr th:only-of-type {\n",
       "        vertical-align: middle;\n",
       "    }\n",
       "\n",
       "    .dataframe tbody tr th {\n",
       "        vertical-align: top;\n",
       "    }\n",
       "\n",
       "    .dataframe thead th {\n",
       "        text-align: right;\n",
       "    }\n",
       "</style>\n",
       "<table border=\"1\" class=\"dataframe\">\n",
       "  <thead>\n",
       "    <tr style=\"text-align: right;\">\n",
       "      <th></th>\n",
       "      <th>y</th>\n",
       "      <th>x1</th>\n",
       "      <th>x2</th>\n",
       "      <th>x3</th>\n",
       "      <th>x4</th>\n",
       "      <th>x5</th>\n",
       "      <th>x6</th>\n",
       "      <th>x7</th>\n",
       "      <th>x8</th>\n",
       "      <th>x9</th>\n",
       "      <th>x10</th>\n",
       "      <th>x11</th>\n",
       "      <th>x12</th>\n",
       "      <th>x13</th>\n",
       "    </tr>\n",
       "  </thead>\n",
       "  <tbody>\n",
       "    <tr>\n",
       "      <th>count</th>\n",
       "      <td>1000</td>\n",
       "      <td>1000.000000</td>\n",
       "      <td>1000.000000</td>\n",
       "      <td>1000.000000</td>\n",
       "      <td>1000.000000</td>\n",
       "      <td>1000.000000</td>\n",
       "      <td>1000.000000</td>\n",
       "      <td>1000</td>\n",
       "      <td>1000.000000</td>\n",
       "      <td>1000.000000</td>\n",
       "      <td>1000.000000</td>\n",
       "      <td>1000.000000</td>\n",
       "      <td>1000</td>\n",
       "      <td>1000.000000</td>\n",
       "    </tr>\n",
       "    <tr>\n",
       "      <th>unique</th>\n",
       "      <td>3</td>\n",
       "      <td>NaN</td>\n",
       "      <td>NaN</td>\n",
       "      <td>NaN</td>\n",
       "      <td>NaN</td>\n",
       "      <td>NaN</td>\n",
       "      <td>NaN</td>\n",
       "      <td>5</td>\n",
       "      <td>NaN</td>\n",
       "      <td>NaN</td>\n",
       "      <td>NaN</td>\n",
       "      <td>NaN</td>\n",
       "      <td>1</td>\n",
       "      <td>NaN</td>\n",
       "    </tr>\n",
       "    <tr>\n",
       "      <th>top</th>\n",
       "      <td>Andjorg</td>\n",
       "      <td>NaN</td>\n",
       "      <td>NaN</td>\n",
       "      <td>NaN</td>\n",
       "      <td>NaN</td>\n",
       "      <td>NaN</td>\n",
       "      <td>NaN</td>\n",
       "      <td>Polkagris</td>\n",
       "      <td>NaN</td>\n",
       "      <td>NaN</td>\n",
       "      <td>NaN</td>\n",
       "      <td>NaN</td>\n",
       "      <td>True</td>\n",
       "      <td>NaN</td>\n",
       "    </tr>\n",
       "    <tr>\n",
       "      <th>freq</th>\n",
       "      <td>409</td>\n",
       "      <td>NaN</td>\n",
       "      <td>NaN</td>\n",
       "      <td>NaN</td>\n",
       "      <td>NaN</td>\n",
       "      <td>NaN</td>\n",
       "      <td>NaN</td>\n",
       "      <td>354</td>\n",
       "      <td>NaN</td>\n",
       "      <td>NaN</td>\n",
       "      <td>NaN</td>\n",
       "      <td>NaN</td>\n",
       "      <td>1000</td>\n",
       "      <td>NaN</td>\n",
       "    </tr>\n",
       "    <tr>\n",
       "      <th>mean</th>\n",
       "      <td>NaN</td>\n",
       "      <td>99.993529</td>\n",
       "      <td>-0.031665</td>\n",
       "      <td>-99.888428</td>\n",
       "      <td>-1.220940</td>\n",
       "      <td>199.964456</td>\n",
       "      <td>-91.144009</td>\n",
       "      <td>NaN</td>\n",
       "      <td>-0.035310</td>\n",
       "      <td>-0.037093</td>\n",
       "      <td>11.143083</td>\n",
       "      <td>-0.413786</td>\n",
       "      <td>NaN</td>\n",
       "      <td>450.023429</td>\n",
       "    </tr>\n",
       "    <tr>\n",
       "      <th>std</th>\n",
       "      <td>NaN</td>\n",
       "      <td>1.018963</td>\n",
       "      <td>0.693256</td>\n",
       "      <td>3.129413</td>\n",
       "      <td>0.018171</td>\n",
       "      <td>1.018922</td>\n",
       "      <td>1.815208</td>\n",
       "      <td>NaN</td>\n",
       "      <td>1.182681</td>\n",
       "      <td>1.179131</td>\n",
       "      <td>1.394928</td>\n",
       "      <td>2.240144</td>\n",
       "      <td>NaN</td>\n",
       "      <td>4.814188</td>\n",
       "    </tr>\n",
       "    <tr>\n",
       "      <th>min</th>\n",
       "      <td>NaN</td>\n",
       "      <td>96.767340</td>\n",
       "      <td>-2.024930</td>\n",
       "      <td>-109.093810</td>\n",
       "      <td>-1.263190</td>\n",
       "      <td>196.739280</td>\n",
       "      <td>-98.264480</td>\n",
       "      <td>NaN</td>\n",
       "      <td>-4.724160</td>\n",
       "      <td>-4.147470</td>\n",
       "      <td>6.656990</td>\n",
       "      <td>-5.813600</td>\n",
       "      <td>NaN</td>\n",
       "      <td>433.837720</td>\n",
       "    </tr>\n",
       "    <tr>\n",
       "      <th>25%</th>\n",
       "      <td>NaN</td>\n",
       "      <td>99.330040</td>\n",
       "      <td>-0.487903</td>\n",
       "      <td>-102.059513</td>\n",
       "      <td>-1.234290</td>\n",
       "      <td>199.302648</td>\n",
       "      <td>-92.387215</td>\n",
       "      <td>NaN</td>\n",
       "      <td>-0.758445</td>\n",
       "      <td>-0.769328</td>\n",
       "      <td>10.221473</td>\n",
       "      <td>-2.056707</td>\n",
       "      <td>NaN</td>\n",
       "      <td>446.654358</td>\n",
       "    </tr>\n",
       "    <tr>\n",
       "      <th>50%</th>\n",
       "      <td>NaN</td>\n",
       "      <td>100.025040</td>\n",
       "      <td>-0.032270</td>\n",
       "      <td>-99.924990</td>\n",
       "      <td>-1.224930</td>\n",
       "      <td>199.996185</td>\n",
       "      <td>-91.073750</td>\n",
       "      <td>NaN</td>\n",
       "      <td>0.001310</td>\n",
       "      <td>-0.011950</td>\n",
       "      <td>11.193020</td>\n",
       "      <td>-0.793700</td>\n",
       "      <td>NaN</td>\n",
       "      <td>450.181500</td>\n",
       "    </tr>\n",
       "    <tr>\n",
       "      <th>75%</th>\n",
       "      <td>NaN</td>\n",
       "      <td>100.689257</td>\n",
       "      <td>0.461008</td>\n",
       "      <td>-97.773022</td>\n",
       "      <td>-1.206632</td>\n",
       "      <td>200.659110</td>\n",
       "      <td>-89.931027</td>\n",
       "      <td>NaN</td>\n",
       "      <td>0.732220</td>\n",
       "      <td>0.676998</td>\n",
       "      <td>12.003478</td>\n",
       "      <td>1.290030</td>\n",
       "      <td>NaN</td>\n",
       "      <td>453.389245</td>\n",
       "    </tr>\n",
       "    <tr>\n",
       "      <th>max</th>\n",
       "      <td>NaN</td>\n",
       "      <td>102.966790</td>\n",
       "      <td>2.040840</td>\n",
       "      <td>-89.944590</td>\n",
       "      <td>-1.174250</td>\n",
       "      <td>202.936850</td>\n",
       "      <td>-84.654060</td>\n",
       "      <td>NaN</td>\n",
       "      <td>3.348100</td>\n",
       "      <td>4.264500</td>\n",
       "      <td>16.056040</td>\n",
       "      <td>5.947660</td>\n",
       "      <td>NaN</td>\n",
       "      <td>463.437590</td>\n",
       "    </tr>\n",
       "  </tbody>\n",
       "</table>\n",
       "</div>"
      ],
      "text/plain": [
       "              y           x1           x2           x3           x4  \\\n",
       "count      1000  1000.000000  1000.000000  1000.000000  1000.000000   \n",
       "unique        3          NaN          NaN          NaN          NaN   \n",
       "top     Andjorg          NaN          NaN          NaN          NaN   \n",
       "freq        409          NaN          NaN          NaN          NaN   \n",
       "mean        NaN    99.993529    -0.031665   -99.888428    -1.220940   \n",
       "std         NaN     1.018963     0.693256     3.129413     0.018171   \n",
       "min         NaN    96.767340    -2.024930  -109.093810    -1.263190   \n",
       "25%         NaN    99.330040    -0.487903  -102.059513    -1.234290   \n",
       "50%         NaN   100.025040    -0.032270   -99.924990    -1.224930   \n",
       "75%         NaN   100.689257     0.461008   -97.773022    -1.206632   \n",
       "max         NaN   102.966790     2.040840   -89.944590    -1.174250   \n",
       "\n",
       "                 x5           x6         x7           x8           x9  \\\n",
       "count   1000.000000  1000.000000       1000  1000.000000  1000.000000   \n",
       "unique          NaN          NaN          5          NaN          NaN   \n",
       "top             NaN          NaN  Polkagris          NaN          NaN   \n",
       "freq            NaN          NaN        354          NaN          NaN   \n",
       "mean     199.964456   -91.144009        NaN    -0.035310    -0.037093   \n",
       "std        1.018922     1.815208        NaN     1.182681     1.179131   \n",
       "min      196.739280   -98.264480        NaN    -4.724160    -4.147470   \n",
       "25%      199.302648   -92.387215        NaN    -0.758445    -0.769328   \n",
       "50%      199.996185   -91.073750        NaN     0.001310    -0.011950   \n",
       "75%      200.659110   -89.931027        NaN     0.732220     0.676998   \n",
       "max      202.936850   -84.654060        NaN     3.348100     4.264500   \n",
       "\n",
       "                x10          x11   x12          x13  \n",
       "count   1000.000000  1000.000000  1000  1000.000000  \n",
       "unique          NaN          NaN     1          NaN  \n",
       "top             NaN          NaN  True          NaN  \n",
       "freq            NaN          NaN  1000          NaN  \n",
       "mean      11.143083    -0.413786   NaN   450.023429  \n",
       "std        1.394928     2.240144   NaN     4.814188  \n",
       "min        6.656990    -5.813600   NaN   433.837720  \n",
       "25%       10.221473    -2.056707   NaN   446.654358  \n",
       "50%       11.193020    -0.793700   NaN   450.181500  \n",
       "75%       12.003478     1.290030   NaN   453.389245  \n",
       "max       16.056040     5.947660   NaN   463.437590  "
      ]
     },
     "execution_count": 116,
     "metadata": {},
     "output_type": "execute_result"
    }
   ],
   "source": [
    "df.describe(include=\"all\")"
   ]
  },
  {
   "cell_type": "code",
   "execution_count": 117,
   "id": "78ce99c0",
   "metadata": {},
   "outputs": [
    {
     "data": {
      "application/vnd.microsoft.datawrangler.viewer.v0+json": {
       "columns": [
        {
         "name": "index",
         "rawType": "object",
         "type": "string"
        },
        {
         "name": "y",
         "rawType": "int64",
         "type": "integer"
        }
       ],
       "ref": "4ef75a29-3312-4074-9613-196c6639667e",
       "rows": [
        [
         "Andjorg",
         "409"
        ],
        [
         "Andsuto",
         "334"
        ],
        [
         "Jorgsuto",
         "257"
        ]
       ],
       "shape": {
        "columns": 1,
        "rows": 3
       }
      },
      "text/plain": [
       "Andjorg     409\n",
       "Andsuto     334\n",
       "Jorgsuto    257\n",
       "Name: y, dtype: int64"
      ]
     },
     "execution_count": 117,
     "metadata": {},
     "output_type": "execute_result"
    }
   ],
   "source": [
    "df['y'].value_counts()"
   ]
  },
  {
   "cell_type": "code",
   "execution_count": 118,
   "id": "65819a08",
   "metadata": {},
   "outputs": [
    {
     "data": {
      "application/vnd.microsoft.datawrangler.viewer.v0+json": {
       "columns": [
        {
         "name": "index",
         "rawType": "object",
         "type": "string"
        },
        {
         "name": "x7",
         "rawType": "int64",
         "type": "integer"
        }
       ],
       "ref": "7ca1299e-c041-4a3f-80d6-2357b3783cb3",
       "rows": [
        [
         "Polkagris",
         "354"
        ],
        [
         "Slängpolskorgris",
         "332"
        ],
        [
         "Hambogris",
         "158"
        ],
        [
         "Schottisgris",
         "135"
        ],
        [
         "Polskorgris",
         "21"
        ]
       ],
       "shape": {
        "columns": 1,
        "rows": 5
       }
      },
      "text/plain": [
       "Polkagris           354\n",
       "Slängpolskorgris    332\n",
       "Hambogris           158\n",
       "Schottisgris        135\n",
       "Polskorgris          21\n",
       "Name: x7, dtype: int64"
      ]
     },
     "execution_count": 118,
     "metadata": {},
     "output_type": "execute_result"
    }
   ],
   "source": [
    "df['x7'].value_counts()"
   ]
  },
  {
   "cell_type": "code",
   "execution_count": 119,
   "id": "82b3f87f",
   "metadata": {},
   "outputs": [
    {
     "data": {
      "application/vnd.microsoft.datawrangler.viewer.v0+json": {
       "columns": [
        {
         "name": "index",
         "rawType": "object",
         "type": "string"
        },
        {
         "name": "x12",
         "rawType": "int64",
         "type": "integer"
        }
       ],
       "ref": "5f76ea85-ce25-435e-82a1-1820cfc32b2f",
       "rows": [
        [
         "True",
         "1000"
        ]
       ],
       "shape": {
        "columns": 1,
        "rows": 1
       }
      },
      "text/plain": [
       "True    1000\n",
       "Name: x12, dtype: int64"
      ]
     },
     "execution_count": 119,
     "metadata": {},
     "output_type": "execute_result"
    }
   ],
   "source": [
    "df['x12'].value_counts()\n"
   ]
  },
  {
   "cell_type": "code",
   "execution_count": null,
   "id": "114e7800",
   "metadata": {},
   "outputs": [
    {
     "name": "stdout",
     "output_type": "stream",
     "text": [
      "Each category within the y column has the following count:\n",
      "y\n",
      "Andjorg     409\n",
      "Andsuto     334\n",
      "Jorgsuto    257\n",
      "dtype: int64\n"
     ]
    },
    {
     "data": {
      "text/plain": [
       "Text(0, 0.5, 'Frequency')"
      ]
     },
     "execution_count": 120,
     "metadata": {},
     "output_type": "execute_result"
    },
    {
     "data": {
      "image/png": "[encoded data removed]",
      "text/plain": [
       "<Figure size 400x400 with 1 Axes>"
      ]
     },
     "metadata": {},
     "output_type": "display_data"
    }
   ],
   "source": [
    "print(\"Each category within the y column has the following count:\")\n",
    "print(df.groupby(['y']).size())\n",
    "\n",
    "# bar chart to show split of data\n",
    "index = ('Andjorg', 'Andsuto', 'Jorgsuto')\n",
    "lec_plot = df['y'].value_counts(sort=True, ascending=False).plot(kind='bar',figsize=(4,4), \n",
    "                                                                    title='Total number for occurences of labels: '\n",
    "                                                                    + str(df['y'].count()), color=['r', 'b', 'y'])\n",
    "lec_plot.set_xlabel('labels')\n",
    "lec_plot.set_ylabel('Frequency')"
   ]
  },
  {
   "cell_type": "markdown",
   "id": "578e97b4",
   "metadata": {},
   "source": [
    "## Preprocess categorical input variables"
   ]
  },
  {
   "cell_type": "code",
   "execution_count": 121,
   "id": "c35c2412",
   "metadata": {},
   "outputs": [
    {
     "name": "stdout",
     "output_type": "stream",
     "text": [
      "The 'x12' column has 1 unique value(s).\n",
      "Column 'x12' has been successfully removed.\n"
     ]
    }
   ],
   "source": [
    "unique_value_count = df['x12'].nunique()\n",
    "print(f\"The 'x12' column has {unique_value_count} unique value(s).\")\n",
    "if unique_value_count == 1:\n",
    "    # axis=1 specifies we are dropping a column\n",
    "    # inplace=True modifies the DataFrame directly\n",
    "    df.drop('x12', axis=1, inplace=True)\n",
    "    print(\"Column 'x12' has been successfully removed.\")"
   ]
  },
  {
   "cell_type": "code",
   "execution_count": 122,
   "id": "70283ea5",
   "metadata": {},
   "outputs": [],
   "source": [
    "# One hot coding for x7\n",
    "# drop_first=True: To Avoid Multicollinearity (For Linear Models)\n",
    "df_dummy = pd.get_dummies(df['x7'], prefix='x7',drop_first=True)\n",
    "df = pd.concat([df, df_dummy], axis=1).drop(['x7'], axis=1)"
   ]
  },
  {
   "cell_type": "code",
   "execution_count": 123,
   "id": "08d13586",
   "metadata": {},
   "outputs": [
    {
     "name": "stdout",
     "output_type": "stream",
     "text": [
      "<class 'pandas.core.frame.DataFrame'>\n",
      "RangeIndex: 1000 entries, 0 to 999\n",
      "Data columns (total 16 columns):\n",
      " #   Column               Non-Null Count  Dtype  \n",
      "---  ------               --------------  -----  \n",
      " 0   y                    1000 non-null   object \n",
      " 1   x1                   1000 non-null   float64\n",
      " 2   x2                   1000 non-null   float64\n",
      " 3   x3                   1000 non-null   float64\n",
      " 4   x4                   1000 non-null   float64\n",
      " 5   x5                   1000 non-null   float64\n",
      " 6   x6                   1000 non-null   float64\n",
      " 7   x8                   1000 non-null   float64\n",
      " 8   x9                   1000 non-null   float64\n",
      " 9   x10                  1000 non-null   float64\n",
      " 10  x11                  1000 non-null   float64\n",
      " 11  x13                  1000 non-null   float64\n",
      " 12  x7_Polkagris         1000 non-null   uint8  \n",
      " 13  x7_Polskorgris       1000 non-null   uint8  \n",
      " 14  x7_Schottisgris      1000 non-null   uint8  \n",
      " 15  x7_Slängpolskorgris  1000 non-null   uint8  \n",
      "dtypes: float64(11), object(1), uint8(4)\n",
      "memory usage: 97.8+ KB\n"
     ]
    }
   ],
   "source": [
    "df.info()"
   ]
  },
  {
   "cell_type": "code",
   "execution_count": 124,
   "id": "b6b9aa2f",
   "metadata": {},
   "outputs": [],
   "source": [
    "# encoder = ce.OrdinalEncoder(cols=['x7'])\n",
    "# df = encoder.fit_transform(df)"
   ]
  },
  {
   "cell_type": "code",
   "execution_count": 125,
   "id": "8168996d",
   "metadata": {},
   "outputs": [
    {
     "data": {
      "text/plain": [
       "<Axes: >"
      ]
     },
     "execution_count": 125,
     "metadata": {},
     "output_type": "execute_result"
    },
    {
     "data": {
      "image/png": "[encoded data removed]",
      "text/plain": [
       "<Figure size 1500x1000 with 2 Axes>"
      ]
     },
     "metadata": {},
     "output_type": "display_data"
    }
   ],
   "source": [
    "correlation = df[['x1','x2','x3','x4','x5','x6','x8','x9','x10','x11','x13',\n",
    "                  'x7_Polkagris','x7_Polskorgris', 'x7_Schottisgris','x7_Slängpolskorgris']].corr()\n",
    "plt.figure(figsize=(15,10))\n",
    "sb.heatmap(correlation, cmap='coolwarm', annot = True)"
   ]
  },
  {
   "cell_type": "code",
   "execution_count": 126,
   "id": "63f322fe",
   "metadata": {},
   "outputs": [],
   "source": [
    "# Drop redundant variables\n",
    "df_clean = df.drop(['x5', 'x13'], axis=1)"
   ]
  },
  {
   "cell_type": "code",
   "execution_count": 127,
   "id": "d8b7275a",
   "metadata": {},
   "outputs": [
    {
     "data": {
      "application/vnd.microsoft.datawrangler.viewer.v0+json": {
       "columns": [
        {
         "name": "index",
         "rawType": "object",
         "type": "string"
        },
        {
         "name": "x1",
         "rawType": "float64",
         "type": "float"
        },
        {
         "name": "x2",
         "rawType": "float64",
         "type": "float"
        },
        {
         "name": "x3",
         "rawType": "float64",
         "type": "float"
        },
        {
         "name": "x4",
         "rawType": "float64",
         "type": "float"
        },
        {
         "name": "x6",
         "rawType": "float64",
         "type": "float"
        },
        {
         "name": "x8",
         "rawType": "float64",
         "type": "float"
        },
        {
         "name": "x9",
         "rawType": "float64",
         "type": "float"
        },
        {
         "name": "x10",
         "rawType": "float64",
         "type": "float"
        },
        {
         "name": "x11",
         "rawType": "float64",
         "type": "float"
        },
        {
         "name": "x7_Polkagris",
         "rawType": "float64",
         "type": "float"
        },
        {
         "name": "x7_Polskorgris",
         "rawType": "float64",
         "type": "float"
        },
        {
         "name": "x7_Schottisgris",
         "rawType": "float64",
         "type": "float"
        },
        {
         "name": "x7_Slängpolskorgris",
         "rawType": "float64",
         "type": "float"
        }
       ],
       "ref": "4d093256-27ef-4955-8d31-1c95c2d3b58e",
       "rows": [
        [
         "count",
         "1000.0",
         "1000.0",
         "1000.0",
         "1000.0",
         "1000.0",
         "1000.0",
         "1000.0",
         "1000.0",
         "1000.0",
         "1000.0",
         "1000.0",
         "1000.0",
         "1000.0"
        ],
        [
         "mean",
         "99.99352866",
         "-0.031665099999999995",
         "-99.88842838000001",
         "-1.22094022",
         "-91.14400932000001",
         "-0.03531001",
         "-0.03709318",
         "11.14308289",
         "-0.41378554999999995",
         "0.354",
         "0.021",
         "0.135",
         "0.332"
        ],
        [
         "std",
         "1.0189631277720328",
         "0.6932558974753654",
         "3.129412638187304",
         "0.018171094210762774",
         "1.8152080097138361",
         "1.182680837547477",
         "1.1791308828654328",
         "1.3949277300717307",
         "2.2401436933251495",
         "0.4784484433174727",
         "0.14345584540052586",
         "0.3418945625363058",
         "0.47116663506449397"
        ],
        [
         "min",
         "96.76734",
         "-2.02493",
         "-109.09381",
         "-1.26319",
         "-98.26448",
         "-4.72416",
         "-4.14747",
         "6.65699",
         "-5.8136",
         "0.0",
         "0.0",
         "0.0",
         "0.0"
        ],
        [
         "25%",
         "99.33004",
         "-0.4879025",
         "-102.05951250000001",
         "-1.23429",
         "-92.387215",
         "-0.758445",
         "-0.7693275",
         "10.2214725",
         "-2.0567075",
         "0.0",
         "0.0",
         "0.0",
         "0.0"
        ],
        [
         "50%",
         "100.02504",
         "-0.03227",
         "-99.92499000000001",
         "-1.22493",
         "-91.07374999999999",
         "0.00131",
         "-0.011949999999999999",
         "11.19302",
         "-0.7937000000000001",
         "0.0",
         "0.0",
         "0.0",
         "0.0"
        ],
        [
         "75%",
         "100.6892575",
         "0.4610075",
         "-97.7730225",
         "-1.2066325",
         "-89.9310275",
         "0.73222",
         "0.6769975",
         "12.0034775",
         "1.29003",
         "1.0",
         "0.0",
         "0.0",
         "1.0"
        ],
        [
         "max",
         "102.96679",
         "2.04084",
         "-89.94459",
         "-1.17425",
         "-84.65406",
         "3.3481",
         "4.2645",
         "16.05604",
         "5.94766",
         "1.0",
         "1.0",
         "1.0",
         "1.0"
        ]
       ],
       "shape": {
        "columns": 13,
        "rows": 8
       }
      },
      "text/html": [
       "<div>\n",
       "<style scoped>\n",
       "    .dataframe tbody tr th:only-of-type {\n",
       "        vertical-align: middle;\n",
       "    }\n",
       "\n",
       "    .dataframe tbody tr th {\n",
       "        vertical-align: top;\n",
       "    }\n",
       "\n",
       "    .dataframe thead th {\n",
       "        text-align: right;\n",
       "    }\n",
       "</style>\n",
       "<table border=\"1\" class=\"dataframe\">\n",
       "  <thead>\n",
       "    <tr style=\"text-align: right;\">\n",
       "      <th></th>\n",
       "      <th>x1</th>\n",
       "      <th>x2</th>\n",
       "      <th>x3</th>\n",
       "      <th>x4</th>\n",
       "      <th>x6</th>\n",
       "      <th>x8</th>\n",
       "      <th>x9</th>\n",
       "      <th>x10</th>\n",
       "      <th>x11</th>\n",
       "      <th>x7_Polkagris</th>\n",
       "      <th>x7_Polskorgris</th>\n",
       "      <th>x7_Schottisgris</th>\n",
       "      <th>x7_Slängpolskorgris</th>\n",
       "    </tr>\n",
       "  </thead>\n",
       "  <tbody>\n",
       "    <tr>\n",
       "      <th>count</th>\n",
       "      <td>1000.000000</td>\n",
       "      <td>1000.000000</td>\n",
       "      <td>1000.000000</td>\n",
       "      <td>1000.000000</td>\n",
       "      <td>1000.000000</td>\n",
       "      <td>1000.000000</td>\n",
       "      <td>1000.000000</td>\n",
       "      <td>1000.000000</td>\n",
       "      <td>1000.000000</td>\n",
       "      <td>1000.000000</td>\n",
       "      <td>1000.000000</td>\n",
       "      <td>1000.000000</td>\n",
       "      <td>1000.000000</td>\n",
       "    </tr>\n",
       "    <tr>\n",
       "      <th>mean</th>\n",
       "      <td>99.993529</td>\n",
       "      <td>-0.031665</td>\n",
       "      <td>-99.888428</td>\n",
       "      <td>-1.220940</td>\n",
       "      <td>-91.144009</td>\n",
       "      <td>-0.035310</td>\n",
       "      <td>-0.037093</td>\n",
       "      <td>11.143083</td>\n",
       "      <td>-0.413786</td>\n",
       "      <td>0.354000</td>\n",
       "      <td>0.021000</td>\n",
       "      <td>0.135000</td>\n",
       "      <td>0.332000</td>\n",
       "    </tr>\n",
       "    <tr>\n",
       "      <th>std</th>\n",
       "      <td>1.018963</td>\n",
       "      <td>0.693256</td>\n",
       "      <td>3.129413</td>\n",
       "      <td>0.018171</td>\n",
       "      <td>1.815208</td>\n",
       "      <td>1.182681</td>\n",
       "      <td>1.179131</td>\n",
       "      <td>1.394928</td>\n",
       "      <td>2.240144</td>\n",
       "      <td>0.478448</td>\n",
       "      <td>0.143456</td>\n",
       "      <td>0.341895</td>\n",
       "      <td>0.471167</td>\n",
       "    </tr>\n",
       "    <tr>\n",
       "      <th>min</th>\n",
       "      <td>96.767340</td>\n",
       "      <td>-2.024930</td>\n",
       "      <td>-109.093810</td>\n",
       "      <td>-1.263190</td>\n",
       "      <td>-98.264480</td>\n",
       "      <td>-4.724160</td>\n",
       "      <td>-4.147470</td>\n",
       "      <td>6.656990</td>\n",
       "      <td>-5.813600</td>\n",
       "      <td>0.000000</td>\n",
       "      <td>0.000000</td>\n",
       "      <td>0.000000</td>\n",
       "      <td>0.000000</td>\n",
       "    </tr>\n",
       "    <tr>\n",
       "      <th>25%</th>\n",
       "      <td>99.330040</td>\n",
       "      <td>-0.487903</td>\n",
       "      <td>-102.059513</td>\n",
       "      <td>-1.234290</td>\n",
       "      <td>-92.387215</td>\n",
       "      <td>-0.758445</td>\n",
       "      <td>-0.769328</td>\n",
       "      <td>10.221473</td>\n",
       "      <td>-2.056707</td>\n",
       "      <td>0.000000</td>\n",
       "      <td>0.000000</td>\n",
       "      <td>0.000000</td>\n",
       "      <td>0.000000</td>\n",
       "    </tr>\n",
       "    <tr>\n",
       "      <th>50%</th>\n",
       "      <td>100.025040</td>\n",
       "      <td>-0.032270</td>\n",
       "      <td>-99.924990</td>\n",
       "      <td>-1.224930</td>\n",
       "      <td>-91.073750</td>\n",
       "      <td>0.001310</td>\n",
       "      <td>-0.011950</td>\n",
       "      <td>11.193020</td>\n",
       "      <td>-0.793700</td>\n",
       "      <td>0.000000</td>\n",
       "      <td>0.000000</td>\n",
       "      <td>0.000000</td>\n",
       "      <td>0.000000</td>\n",
       "    </tr>\n",
       "    <tr>\n",
       "      <th>75%</th>\n",
       "      <td>100.689257</td>\n",
       "      <td>0.461008</td>\n",
       "      <td>-97.773022</td>\n",
       "      <td>-1.206632</td>\n",
       "      <td>-89.931027</td>\n",
       "      <td>0.732220</td>\n",
       "      <td>0.676998</td>\n",
       "      <td>12.003478</td>\n",
       "      <td>1.290030</td>\n",
       "      <td>1.000000</td>\n",
       "      <td>0.000000</td>\n",
       "      <td>0.000000</td>\n",
       "      <td>1.000000</td>\n",
       "    </tr>\n",
       "    <tr>\n",
       "      <th>max</th>\n",
       "      <td>102.966790</td>\n",
       "      <td>2.040840</td>\n",
       "      <td>-89.944590</td>\n",
       "      <td>-1.174250</td>\n",
       "      <td>-84.654060</td>\n",
       "      <td>3.348100</td>\n",
       "      <td>4.264500</td>\n",
       "      <td>16.056040</td>\n",
       "      <td>5.947660</td>\n",
       "      <td>1.000000</td>\n",
       "      <td>1.000000</td>\n",
       "      <td>1.000000</td>\n",
       "      <td>1.000000</td>\n",
       "    </tr>\n",
       "  </tbody>\n",
       "</table>\n",
       "</div>"
      ],
      "text/plain": [
       "                x1           x2           x3           x4           x6  \\\n",
       "count  1000.000000  1000.000000  1000.000000  1000.000000  1000.000000   \n",
       "mean     99.993529    -0.031665   -99.888428    -1.220940   -91.144009   \n",
       "std       1.018963     0.693256     3.129413     0.018171     1.815208   \n",
       "min      96.767340    -2.024930  -109.093810    -1.263190   -98.264480   \n",
       "25%      99.330040    -0.487903  -102.059513    -1.234290   -92.387215   \n",
       "50%     100.025040    -0.032270   -99.924990    -1.224930   -91.073750   \n",
       "75%     100.689257     0.461008   -97.773022    -1.206632   -89.931027   \n",
       "max     102.966790     2.040840   -89.944590    -1.174250   -84.654060   \n",
       "\n",
       "                x8           x9          x10          x11  x7_Polkagris  \\\n",
       "count  1000.000000  1000.000000  1000.000000  1000.000000   1000.000000   \n",
       "mean     -0.035310    -0.037093    11.143083    -0.413786      0.354000   \n",
       "std       1.182681     1.179131     1.394928     2.240144      0.478448   \n",
       "min      -4.724160    -4.147470     6.656990    -5.813600      0.000000   \n",
       "25%      -0.758445    -0.769328    10.221473    -2.056707      0.000000   \n",
       "50%       0.001310    -0.011950    11.193020    -0.793700      0.000000   \n",
       "75%       0.732220     0.676998    12.003478     1.290030      1.000000   \n",
       "max       3.348100     4.264500    16.056040     5.947660      1.000000   \n",
       "\n",
       "       x7_Polskorgris  x7_Schottisgris  x7_Slängpolskorgris  \n",
       "count     1000.000000      1000.000000          1000.000000  \n",
       "mean         0.021000         0.135000             0.332000  \n",
       "std          0.143456         0.341895             0.471167  \n",
       "min          0.000000         0.000000             0.000000  \n",
       "25%          0.000000         0.000000             0.000000  \n",
       "50%          0.000000         0.000000             0.000000  \n",
       "75%          0.000000         0.000000             1.000000  \n",
       "max          1.000000         1.000000             1.000000  "
      ]
     },
     "execution_count": 127,
     "metadata": {},
     "output_type": "execute_result"
    }
   ],
   "source": [
    "df_clean.describe()\n"
   ]
  },
  {
   "cell_type": "code",
   "execution_count": 128,
   "id": "ec58f346",
   "metadata": {},
   "outputs": [],
   "source": [
    "X = df_clean.drop(['y'], axis=1)\n",
    "y= df_clean['y']\n",
    "\n",
    "# cross validation\n",
    "n_splits = 10\n",
    "skf = StratifiedKFold(n_splits=n_splits, shuffle=True, random_state=42)\n",
    "\n",
    "# 分出验证集\n",
    "RANDOM_STATE = 42\n",
    "X_train, X_val, y_train, y_val = train_test_split(\n",
    "    X, y, test_size=0.2, random_state=RANDOM_STATE, stratify=y\n",
    ")\n",
    "\n",
    "# 标准化\n",
    "scaler = StandardScaler()\n",
    "X_train_scaled = scaler.fit_transform(X_train)\n",
    "X_val_scaled = scaler.transform(X_val)"
   ]
  },
  {
   "cell_type": "code",
   "execution_count": 129,
   "id": "43810a6d",
   "metadata": {},
   "outputs": [
    {
     "name": "stdout",
     "output_type": "stream",
     "text": [
      "Training: K-neighbours...\n",
      "Training: Decision tree...\n",
      "Training: Random forest...\n",
      "Training: Gradient Boosting...\n",
      "Training: Extremely random forest...\n",
      "Training: Adaboost...\n",
      "Training: Bagging...\n",
      "Training: MLP...\n",
      "Training: SVM (rbf)...\n",
      "Training: SVM (linear)...\n",
      "Training: SVM (polynomial)...\n",
      "Training: Ridge Classifier...\n",
      "\n",
      "======================================================================\n",
      "             Classifier  CV_Mean   CV_Std  Val_Accuracy   Val_F1\n",
      "      Gradient Boosting  0.86125 0.025890         0.840 0.832099\n",
      "Extremely random forest  0.84125 0.020194         0.820 0.803224\n",
      "              SVM (rbf)  0.82125 0.016817         0.820 0.809064\n",
      "          Random forest  0.87125 0.030644         0.810 0.801870\n",
      "                Bagging  0.85000 0.021651         0.790 0.782729\n",
      "           K-neighbours  0.74000 0.029475         0.775 0.741310\n",
      "               Adaboost  0.78250 0.035882         0.770 0.766514\n",
      "           SVM (linear)  0.72625 0.039706         0.770 0.751654\n",
      "                    MLP  0.78875 0.036422         0.765 0.757484\n",
      "       SVM (polynomial)  0.73750 0.020156         0.765 0.725361\n",
      "       Ridge Classifier  0.73000 0.018708         0.725 0.626683\n",
      "          Decision tree  0.80000 0.042573         0.715 0.714339\n",
      "\n",
      " Best Model: Gradient Boosting\n"
     ]
    },
    {
     "data": {
      "text/html": [
       "<style>#sk-container-id-5 {\n",
       "  /* Definition of color scheme common for light and dark mode */\n",
       "  --sklearn-color-text: #000;\n",
       "  --sklearn-color-text-muted: #666;\n",
       "  --sklearn-color-line: gray;\n",
       "  /* Definition of color scheme for unfitted estimators */\n",
       "  --sklearn-color-unfitted-level-0: #fff5e6;\n",
       "  --sklearn-color-unfitted-level-1: #f6e4d2;\n",
       "  --sklearn-color-unfitted-level-2: #ffe0b3;\n",
       "  --sklearn-color-unfitted-level-3: chocolate;\n",
       "  /* Definition of color scheme for fitted estimators */\n",
       "  --sklearn-color-fitted-level-0: #f0f8ff;\n",
       "  --sklearn-color-fitted-level-1: #d4ebff;\n",
       "  --sklearn-color-fitted-level-2: #b3dbfd;\n",
       "  --sklearn-color-fitted-level-3: cornflowerblue;\n",
       "\n",
       "  /* Specific color for light theme */\n",
       "  --sklearn-color-text-on-default-background: var(--sg-text-color, var(--theme-code-foreground, var(--jp-content-font-color1, black)));\n",
       "  --sklearn-color-background: var(--sg-background-color, var(--theme-background, var(--jp-layout-color0, white)));\n",
       "  --sklearn-color-border-box: var(--sg-text-color, var(--theme-code-foreground, var(--jp-content-font-color1, black)));\n",
       "  --sklearn-color-icon: #696969;\n",
       "\n",
       "  @media (prefers-color-scheme: dark) {\n",
       "    /* Redefinition of color scheme for dark theme */\n",
       "    --sklearn-color-text-on-default-background: var(--sg-text-color, var(--theme-code-foreground, var(--jp-content-font-color1, white)));\n",
       "    --sklearn-color-background: var(--sg-background-color, var(--theme-background, var(--jp-layout-color0, #111)));\n",
       "    --sklearn-color-border-box: var(--sg-text-color, var(--theme-code-foreground, var(--jp-content-font-color1, white)));\n",
       "    --sklearn-color-icon: #878787;\n",
       "  }\n",
       "}\n",
       "\n",
       "#sk-container-id-5 {\n",
       "  color: var(--sklearn-color-text);\n",
       "}\n",
       "\n",
       "#sk-container-id-5 pre {\n",
       "  padding: 0;\n",
       "}\n",
       "\n",
       "#sk-container-id-5 input.sk-hidden--visually {\n",
       "  border: 0;\n",
       "  clip: rect(1px 1px 1px 1px);\n",
       "  clip: rect(1px, 1px, 1px, 1px);\n",
       "  height: 1px;\n",
       "  margin: -1px;\n",
       "  overflow: hidden;\n",
       "  padding: 0;\n",
       "  position: absolute;\n",
       "  width: 1px;\n",
       "}\n",
       "\n",
       "#sk-container-id-5 div.sk-dashed-wrapped {\n",
       "  border: 1px dashed var(--sklearn-color-line);\n",
       "  margin: 0 0.4em 0.5em 0.4em;\n",
       "  box-sizing: border-box;\n",
       "  padding-bottom: 0.4em;\n",
       "  background-color: var(--sklearn-color-background);\n",
       "}\n",
       "\n",
       "#sk-container-id-5 div.sk-container {\n",
       "  /* jupyter's `normalize.less` sets `[hidden] { display: none; }`\n",
       "     but bootstrap.min.css set `[hidden] { display: none !important; }`\n",
       "     so we also need the `!important` here to be able to override the\n",
       "     default hidden behavior on the sphinx rendered scikit-learn.org.\n",
       "     See: https://github.com/scikit-learn/scikit-learn/issues/21755 */\n",
       "  display: inline-block !important;\n",
       "  position: relative;\n",
       "}\n",
       "\n",
       "#sk-container-id-5 div.sk-text-repr-fallback {\n",
       "  display: none;\n",
       "}\n",
       "\n",
       "div.sk-parallel-item,\n",
       "div.sk-serial,\n",
       "div.sk-item {\n",
       "  /* draw centered vertical line to link estimators */\n",
       "  background-image: linear-gradient(var(--sklearn-color-text-on-default-background), var(--sklearn-color-text-on-default-background));\n",
       "  background-size: 2px 100%;\n",
       "  background-repeat: no-repeat;\n",
       "  background-position: center center;\n",
       "}\n",
       "\n",
       "/* Parallel-specific style estimator block */\n",
       "\n",
       "#sk-container-id-5 div.sk-parallel-item::after {\n",
       "  content: \"\";\n",
       "  width: 100%;\n",
       "  border-bottom: 2px solid var(--sklearn-color-text-on-default-background);\n",
       "  flex-grow: 1;\n",
       "}\n",
       "\n",
       "#sk-container-id-5 div.sk-parallel {\n",
       "  display: flex;\n",
       "  align-items: stretch;\n",
       "  justify-content: center;\n",
       "  background-color: var(--sklearn-color-background);\n",
       "  position: relative;\n",
       "}\n",
       "\n",
       "#sk-container-id-5 div.sk-parallel-item {\n",
       "  display: flex;\n",
       "  flex-direction: column;\n",
       "}\n",
       "\n",
       "#sk-container-id-5 div.sk-parallel-item:first-child::after {\n",
       "  align-self: flex-end;\n",
       "  width: 50%;\n",
       "}\n",
       "\n",
       "#sk-container-id-5 div.sk-parallel-item:last-child::after {\n",
       "  align-self: flex-start;\n",
       "  width: 50%;\n",
       "}\n",
       "\n",
       "#sk-container-id-5 div.sk-parallel-item:only-child::after {\n",
       "  width: 0;\n",
       "}\n",
       "\n",
       "/* Serial-specific style estimator block */\n",
       "\n",
       "#sk-container-id-5 div.sk-serial {\n",
       "  display: flex;\n",
       "  flex-direction: column;\n",
       "  align-items: center;\n",
       "  background-color: var(--sklearn-color-background);\n",
       "  padding-right: 1em;\n",
       "  padding-left: 1em;\n",
       "}\n",
       "\n",
       "\n",
       "/* Toggleable style: style used for estimator/Pipeline/ColumnTransformer box that is\n",
       "clickable and can be expanded/collapsed.\n",
       "- Pipeline and ColumnTransformer use this feature and define the default style\n",
       "- Estimators will overwrite some part of the style using the `sk-estimator` class\n",
       "*/\n",
       "\n",
       "/* Pipeline and ColumnTransformer style (default) */\n",
       "\n",
       "#sk-container-id-5 div.sk-toggleable {\n",
       "  /* Default theme specific background. It is overwritten whether we have a\n",
       "  specific estimator or a Pipeline/ColumnTransformer */\n",
       "  background-color: var(--sklearn-color-background);\n",
       "}\n",
       "\n",
       "/* Toggleable label */\n",
       "#sk-container-id-5 label.sk-toggleable__label {\n",
       "  cursor: pointer;\n",
       "  display: flex;\n",
       "  width: 100%;\n",
       "  margin-bottom: 0;\n",
       "  padding: 0.5em;\n",
       "  box-sizing: border-box;\n",
       "  text-align: center;\n",
       "  align-items: start;\n",
       "  justify-content: space-between;\n",
       "  gap: 0.5em;\n",
       "}\n",
       "\n",
       "#sk-container-id-5 label.sk-toggleable__label .caption {\n",
       "  font-size: 0.6rem;\n",
       "  font-weight: lighter;\n",
       "  color: var(--sklearn-color-text-muted);\n",
       "}\n",
       "\n",
       "#sk-container-id-5 label.sk-toggleable__label-arrow:before {\n",
       "  /* Arrow on the left of the label */\n",
       "  content: \"▸\";\n",
       "  float: left;\n",
       "  margin-right: 0.25em;\n",
       "  color: var(--sklearn-color-icon);\n",
       "}\n",
       "\n",
       "#sk-container-id-5 label.sk-toggleable__label-arrow:hover:before {\n",
       "  color: var(--sklearn-color-text);\n",
       "}\n",
       "\n",
       "/* Toggleable content - dropdown */\n",
       "\n",
       "#sk-container-id-5 div.sk-toggleable__content {\n",
       "  max-height: 0;\n",
       "  max-width: 0;\n",
       "  overflow: hidden;\n",
       "  text-align: left;\n",
       "  /* unfitted */\n",
       "  background-color: var(--sklearn-color-unfitted-level-0);\n",
       "}\n",
       "\n",
       "#sk-container-id-5 div.sk-toggleable__content.fitted {\n",
       "  /* fitted */\n",
       "  background-color: var(--sklearn-color-fitted-level-0);\n",
       "}\n",
       "\n",
       "#sk-container-id-5 div.sk-toggleable__content pre {\n",
       "  margin: 0.2em;\n",
       "  border-radius: 0.25em;\n",
       "  color: var(--sklearn-color-text);\n",
       "  /* unfitted */\n",
       "  background-color: var(--sklearn-color-unfitted-level-0);\n",
       "}\n",
       "\n",
       "#sk-container-id-5 div.sk-toggleable__content.fitted pre {\n",
       "  /* unfitted */\n",
       "  background-color: var(--sklearn-color-fitted-level-0);\n",
       "}\n",
       "\n",
       "#sk-container-id-5 input.sk-toggleable__control:checked~div.sk-toggleable__content {\n",
       "  /* Expand drop-down */\n",
       "  max-height: 200px;\n",
       "  max-width: 100%;\n",
       "  overflow: auto;\n",
       "}\n",
       "\n",
       "#sk-container-id-5 input.sk-toggleable__control:checked~label.sk-toggleable__label-arrow:before {\n",
       "  content: \"▾\";\n",
       "}\n",
       "\n",
       "/* Pipeline/ColumnTransformer-specific style */\n",
       "\n",
       "#sk-container-id-5 div.sk-label input.sk-toggleable__control:checked~label.sk-toggleable__label {\n",
       "  color: var(--sklearn-color-text);\n",
       "  background-color: var(--sklearn-color-unfitted-level-2);\n",
       "}\n",
       "\n",
       "#sk-container-id-5 div.sk-label.fitted input.sk-toggleable__control:checked~label.sk-toggleable__label {\n",
       "  background-color: var(--sklearn-color-fitted-level-2);\n",
       "}\n",
       "\n",
       "/* Estimator-specific style */\n",
       "\n",
       "/* Colorize estimator box */\n",
       "#sk-container-id-5 div.sk-estimator input.sk-toggleable__control:checked~label.sk-toggleable__label {\n",
       "  /* unfitted */\n",
       "  background-color: var(--sklearn-color-unfitted-level-2);\n",
       "}\n",
       "\n",
       "#sk-container-id-5 div.sk-estimator.fitted input.sk-toggleable__control:checked~label.sk-toggleable__label {\n",
       "  /* fitted */\n",
       "  background-color: var(--sklearn-color-fitted-level-2);\n",
       "}\n",
       "\n",
       "#sk-container-id-5 div.sk-label label.sk-toggleable__label,\n",
       "#sk-container-id-5 div.sk-label label {\n",
       "  /* The background is the default theme color */\n",
       "  color: var(--sklearn-color-text-on-default-background);\n",
       "}\n",
       "\n",
       "/* On hover, darken the color of the background */\n",
       "#sk-container-id-5 div.sk-label:hover label.sk-toggleable__label {\n",
       "  color: var(--sklearn-color-text);\n",
       "  background-color: var(--sklearn-color-unfitted-level-2);\n",
       "}\n",
       "\n",
       "/* Label box, darken color on hover, fitted */\n",
       "#sk-container-id-5 div.sk-label.fitted:hover label.sk-toggleable__label.fitted {\n",
       "  color: var(--sklearn-color-text);\n",
       "  background-color: var(--sklearn-color-fitted-level-2);\n",
       "}\n",
       "\n",
       "/* Estimator label */\n",
       "\n",
       "#sk-container-id-5 div.sk-label label {\n",
       "  font-family: monospace;\n",
       "  font-weight: bold;\n",
       "  display: inline-block;\n",
       "  line-height: 1.2em;\n",
       "}\n",
       "\n",
       "#sk-container-id-5 div.sk-label-container {\n",
       "  text-align: center;\n",
       "}\n",
       "\n",
       "/* Estimator-specific */\n",
       "#sk-container-id-5 div.sk-estimator {\n",
       "  font-family: monospace;\n",
       "  border: 1px dotted var(--sklearn-color-border-box);\n",
       "  border-radius: 0.25em;\n",
       "  box-sizing: border-box;\n",
       "  margin-bottom: 0.5em;\n",
       "  /* unfitted */\n",
       "  background-color: var(--sklearn-color-unfitted-level-0);\n",
       "}\n",
       "\n",
       "#sk-container-id-5 div.sk-estimator.fitted {\n",
       "  /* fitted */\n",
       "  background-color: var(--sklearn-color-fitted-level-0);\n",
       "}\n",
       "\n",
       "/* on hover */\n",
       "#sk-container-id-5 div.sk-estimator:hover {\n",
       "  /* unfitted */\n",
       "  background-color: var(--sklearn-color-unfitted-level-2);\n",
       "}\n",
       "\n",
       "#sk-container-id-5 div.sk-estimator.fitted:hover {\n",
       "  /* fitted */\n",
       "  background-color: var(--sklearn-color-fitted-level-2);\n",
       "}\n",
       "\n",
       "/* Specification for estimator info (e.g. \"i\" and \"?\") */\n",
       "\n",
       "/* Common style for \"i\" and \"?\" */\n",
       "\n",
       ".sk-estimator-doc-link,\n",
       "a:link.sk-estimator-doc-link,\n",
       "a:visited.sk-estimator-doc-link {\n",
       "  float: right;\n",
       "  font-size: smaller;\n",
       "  line-height: 1em;\n",
       "  font-family: monospace;\n",
       "  background-color: var(--sklearn-color-background);\n",
       "  border-radius: 1em;\n",
       "  height: 1em;\n",
       "  width: 1em;\n",
       "  text-decoration: none !important;\n",
       "  margin-left: 0.5em;\n",
       "  text-align: center;\n",
       "  /* unfitted */\n",
       "  border: var(--sklearn-color-unfitted-level-1) 1pt solid;\n",
       "  color: var(--sklearn-color-unfitted-level-1);\n",
       "}\n",
       "\n",
       ".sk-estimator-doc-link.fitted,\n",
       "a:link.sk-estimator-doc-link.fitted,\n",
       "a:visited.sk-estimator-doc-link.fitted {\n",
       "  /* fitted */\n",
       "  border: var(--sklearn-color-fitted-level-1) 1pt solid;\n",
       "  color: var(--sklearn-color-fitted-level-1);\n",
       "}\n",
       "\n",
       "/* On hover */\n",
       "div.sk-estimator:hover .sk-estimator-doc-link:hover,\n",
       ".sk-estimator-doc-link:hover,\n",
       "div.sk-label-container:hover .sk-estimator-doc-link:hover,\n",
       ".sk-estimator-doc-link:hover {\n",
       "  /* unfitted */\n",
       "  background-color: var(--sklearn-color-unfitted-level-3);\n",
       "  color: var(--sklearn-color-background);\n",
       "  text-decoration: none;\n",
       "}\n",
       "\n",
       "div.sk-estimator.fitted:hover .sk-estimator-doc-link.fitted:hover,\n",
       ".sk-estimator-doc-link.fitted:hover,\n",
       "div.sk-label-container:hover .sk-estimator-doc-link.fitted:hover,\n",
       ".sk-estimator-doc-link.fitted:hover {\n",
       "  /* fitted */\n",
       "  background-color: var(--sklearn-color-fitted-level-3);\n",
       "  color: var(--sklearn-color-background);\n",
       "  text-decoration: none;\n",
       "}\n",
       "\n",
       "/* Span, style for the box shown on hovering the info icon */\n",
       ".sk-estimator-doc-link span {\n",
       "  display: none;\n",
       "  z-index: 9999;\n",
       "  position: relative;\n",
       "  font-weight: normal;\n",
       "  right: .2ex;\n",
       "  padding: .5ex;\n",
       "  margin: .5ex;\n",
       "  width: min-content;\n",
       "  min-width: 20ex;\n",
       "  max-width: 50ex;\n",
       "  color: var(--sklearn-color-text);\n",
       "  box-shadow: 2pt 2pt 4pt #999;\n",
       "  /* unfitted */\n",
       "  background: var(--sklearn-color-unfitted-level-0);\n",
       "  border: .5pt solid var(--sklearn-color-unfitted-level-3);\n",
       "}\n",
       "\n",
       ".sk-estimator-doc-link.fitted span {\n",
       "  /* fitted */\n",
       "  background: var(--sklearn-color-fitted-level-0);\n",
       "  border: var(--sklearn-color-fitted-level-3);\n",
       "}\n",
       "\n",
       ".sk-estimator-doc-link:hover span {\n",
       "  display: block;\n",
       "}\n",
       "\n",
       "/* \"?\"-specific style due to the `<a>` HTML tag */\n",
       "\n",
       "#sk-container-id-5 a.estimator_doc_link {\n",
       "  float: right;\n",
       "  font-size: 1rem;\n",
       "  line-height: 1em;\n",
       "  font-family: monospace;\n",
       "  background-color: var(--sklearn-color-background);\n",
       "  border-radius: 1rem;\n",
       "  height: 1rem;\n",
       "  width: 1rem;\n",
       "  text-decoration: none;\n",
       "  /* unfitted */\n",
       "  color: var(--sklearn-color-unfitted-level-1);\n",
       "  border: var(--sklearn-color-unfitted-level-1) 1pt solid;\n",
       "}\n",
       "\n",
       "#sk-container-id-5 a.estimator_doc_link.fitted {\n",
       "  /* fitted */\n",
       "  border: var(--sklearn-color-fitted-level-1) 1pt solid;\n",
       "  color: var(--sklearn-color-fitted-level-1);\n",
       "}\n",
       "\n",
       "/* On hover */\n",
       "#sk-container-id-5 a.estimator_doc_link:hover {\n",
       "  /* unfitted */\n",
       "  background-color: var(--sklearn-color-unfitted-level-3);\n",
       "  color: var(--sklearn-color-background);\n",
       "  text-decoration: none;\n",
       "}\n",
       "\n",
       "#sk-container-id-5 a.estimator_doc_link.fitted:hover {\n",
       "  /* fitted */\n",
       "  background-color: var(--sklearn-color-fitted-level-3);\n",
       "}\n",
       "</style><div id=\"sk-container-id-5\" class=\"sk-top-container\"><div class=\"sk-text-repr-fallback\"><pre>GradientBoostingClassifier(random_state=42)</pre><b>In a Jupyter environment, please rerun this cell to show the HTML representation or trust the notebook. <br />On GitHub, the HTML representation is unable to render, please try loading this page with nbviewer.org.</b></div><div class=\"sk-container\" hidden><div class=\"sk-item\"><div class=\"sk-estimator fitted sk-toggleable\"><input class=\"sk-toggleable__control sk-hidden--visually\" id=\"sk-estimator-id-5\" type=\"checkbox\" checked><label for=\"sk-estimator-id-5\" class=\"sk-toggleable__label fitted sk-toggleable__label-arrow\"><div><div>GradientBoostingClassifier</div></div><div><a class=\"sk-estimator-doc-link fitted\" rel=\"noreferrer\" target=\"_blank\" href=\"https://scikit-learn.org/1.6/modules/generated/sklearn.ensemble.GradientBoostingClassifier.html\">?<span>Documentation for GradientBoostingClassifier</span></a><span class=\"sk-estimator-doc-link fitted\">i<span>Fitted</span></span></div></label><div class=\"sk-toggleable__content fitted\"><pre>GradientBoostingClassifier(random_state=42)</pre></div> </div></div></div></div>"
      ],
      "text/plain": [
       "GradientBoostingClassifier(random_state=42)"
      ]
     },
     "execution_count": 129,
     "metadata": {},
     "output_type": "execute_result"
    }
   ],
   "source": [
    "# 设置随机种子\n",
    "RANDOM_STATE = 42\n",
    "\n",
    "# 2. 定义所有分类器\n",
    "classifiers = {\n",
    "    \"K-neighbours\": KNeighborsClassifier(),\n",
    "    \"Decision tree\": DecisionTreeClassifier(random_state=RANDOM_STATE),\n",
    "    \"Random forest\": RandomForestClassifier(random_state=RANDOM_STATE),\n",
    "    \"Gradient Boosting\": GradientBoostingClassifier(random_state=RANDOM_STATE),\n",
    "    \"Extremely random forest\": ExtraTreesClassifier(random_state=RANDOM_STATE),\n",
    "    \"Adaboost\": AdaBoostClassifier(random_state=RANDOM_STATE),\n",
    "    \"Bagging\": BaggingClassifier(random_state=RANDOM_STATE),\n",
    "    \"MLP\": MLPClassifier(max_iter=2000, hidden_layer_sizes=(20,20), random_state=RANDOM_STATE),\n",
    "    \"SVM (rbf)\": SVC(random_state=RANDOM_STATE),\n",
    "    \"SVM (linear)\": SVC(kernel=\"linear\", random_state=RANDOM_STATE),\n",
    "    \"SVM (polynomial)\": SVC(kernel=\"poly\", random_state=RANDOM_STATE),\n",
    "    \"Ridge Classifier\": RidgeClassifierCV()\n",
    "}\n",
    "\n",
    "# 3. 存储结果\n",
    "results = []\n",
    "\n",
    "for clf_name, clf in classifiers.items():\n",
    "    print(f\"Training: {clf_name}...\")\n",
    "    \n",
    "    # 交叉验证\n",
    "    cv_scores = cross_val_score(clf, X_train_scaled, y_train, cv=skf, n_jobs=-1)\n",
    "    \n",
    "    # 训练并评估\n",
    "    clf.fit(X_train_scaled, y_train)\n",
    "    y_val_pred = clf.predict(X_val_scaled)\n",
    "    \n",
    "    val_acc = accuracy_score(y_val, y_val_pred)\n",
    "    val_f1 = f1_score(y_val, y_val_pred, average='weighted')\n",
    "    \n",
    "    results.append({\n",
    "        'Classifier': clf_name,\n",
    "        'CV_Mean': cv_scores.mean(),\n",
    "        'CV_Std': cv_scores.std(),\n",
    "        'Val_Accuracy': val_acc,\n",
    "        'Val_F1': val_f1\n",
    "    })\n",
    "\n",
    "results_df = pd.DataFrame(results).sort_values('Val_Accuracy', ascending=False)\n",
    "print(\"\\n\" + \"=\"*70)\n",
    "print(results_df.to_string(index=False))\n",
    "\n",
    "# ============================================\n",
    "# 4. 用最佳模型对测试集进行预测\n",
    "# ============================================\n",
    "best_model_name = results_df.iloc[0]['Classifier']\n",
    "best_clf = classifiers[best_model_name]\n",
    "\n",
    "print(f\"\\n Best Model: {best_model_name}\")\n",
    "\n",
    "# 用全部训练数据重新训练\n",
    "scaler_final = StandardScaler()\n",
    "X_all_scaled = scaler_final.fit_transform(X)\n",
    "best_clf.fit(X_all_scaled, y)\n",
    "\n"
   ]
  },
  {
   "cell_type": "code",
   "execution_count": 130,
   "id": "fbdfa841",
   "metadata": {},
   "outputs": [
    {
     "data": {
      "application/vnd.microsoft.datawrangler.viewer.v0+json": {
       "columns": [
        {
         "name": "index",
         "rawType": "int64",
         "type": "integer"
        },
        {
         "name": "x1",
         "rawType": "float64",
         "type": "float"
        },
        {
         "name": "x2",
         "rawType": "float64",
         "type": "float"
        },
        {
         "name": "x3",
         "rawType": "float64",
         "type": "float"
        },
        {
         "name": "x4",
         "rawType": "float64",
         "type": "float"
        },
        {
         "name": "x5",
         "rawType": "float64",
         "type": "float"
        },
        {
         "name": "x6",
         "rawType": "float64",
         "type": "float"
        },
        {
         "name": "x7",
         "rawType": "object",
         "type": "string"
        },
        {
         "name": "x8",
         "rawType": "float64",
         "type": "float"
        },
        {
         "name": "x9",
         "rawType": "float64",
         "type": "float"
        },
        {
         "name": "x10",
         "rawType": "float64",
         "type": "float"
        },
        {
         "name": "x11",
         "rawType": "float64",
         "type": "float"
        },
        {
         "name": "x12",
         "rawType": "bool",
         "type": "boolean"
        },
        {
         "name": "x13",
         "rawType": "float64",
         "type": "float"
        }
       ],
       "ref": "03fbf98f-f74a-476f-99fa-367aa9424263",
       "rows": [
        [
         "0",
         "99.34096",
         "-0.6754",
         "-96.38556",
         "-1.19631",
         "199.31533",
         "-86.16157",
         "Slängpolskorgris",
         "0.62378",
         "0.42649",
         "12.10197",
         "3.43177",
         "True",
         "448.51202"
        ],
        [
         "1",
         "100.60896",
         "0.18439",
         "-102.61094",
         "-1.23638",
         "200.57851",
         "-93.29574",
         "Polkagris",
         "0.74169",
         "0.2559",
         "11.128",
         "-3.6381",
         "True",
         "451.73934"
        ],
        [
         "2",
         "100.10018",
         "0.48681",
         "-101.76163",
         "-1.25433",
         "200.06768",
         "-91.08115",
         "Polkagris",
         "-1.75279",
         "0.76439",
         "12.8353",
         "-0.52512",
         "True",
         "449.62008"
        ],
        [
         "3",
         "100.01433",
         "0.80652",
         "-96.01828",
         "-1.22024",
         "199.98485",
         "-90.8254",
         "Polkagris",
         "0.37051",
         "0.75879",
         "9.54447",
         "0.20145",
         "True",
         "452.06249"
        ],
        [
         "4",
         "99.09649",
         "0.65778",
         "-100.90883",
         "-1.20198",
         "199.06899",
         "-86.97312",
         "Slängpolskorgris",
         "-1.52795",
         "-0.49527",
         "11.04676",
         "1.36818",
         "True",
         "445.02802"
        ]
       ],
       "shape": {
        "columns": 13,
        "rows": 5
       }
      },
      "text/html": [
       "<div>\n",
       "<style scoped>\n",
       "    .dataframe tbody tr th:only-of-type {\n",
       "        vertical-align: middle;\n",
       "    }\n",
       "\n",
       "    .dataframe tbody tr th {\n",
       "        vertical-align: top;\n",
       "    }\n",
       "\n",
       "    .dataframe thead th {\n",
       "        text-align: right;\n",
       "    }\n",
       "</style>\n",
       "<table border=\"1\" class=\"dataframe\">\n",
       "  <thead>\n",
       "    <tr style=\"text-align: right;\">\n",
       "      <th></th>\n",
       "      <th>x1</th>\n",
       "      <th>x2</th>\n",
       "      <th>x3</th>\n",
       "      <th>x4</th>\n",
       "      <th>x5</th>\n",
       "      <th>x6</th>\n",
       "      <th>x7</th>\n",
       "      <th>x8</th>\n",
       "      <th>x9</th>\n",
       "      <th>x10</th>\n",
       "      <th>x11</th>\n",
       "      <th>x12</th>\n",
       "      <th>x13</th>\n",
       "    </tr>\n",
       "  </thead>\n",
       "  <tbody>\n",
       "    <tr>\n",
       "      <th>0</th>\n",
       "      <td>99.34096</td>\n",
       "      <td>-0.67540</td>\n",
       "      <td>-96.38556</td>\n",
       "      <td>-1.19631</td>\n",
       "      <td>199.31533</td>\n",
       "      <td>-86.16157</td>\n",
       "      <td>Slängpolskorgris</td>\n",
       "      <td>0.62378</td>\n",
       "      <td>0.42649</td>\n",
       "      <td>12.10197</td>\n",
       "      <td>3.43177</td>\n",
       "      <td>True</td>\n",
       "      <td>448.51202</td>\n",
       "    </tr>\n",
       "    <tr>\n",
       "      <th>1</th>\n",
       "      <td>100.60896</td>\n",
       "      <td>0.18439</td>\n",
       "      <td>-102.61094</td>\n",
       "      <td>-1.23638</td>\n",
       "      <td>200.57851</td>\n",
       "      <td>-93.29574</td>\n",
       "      <td>Polkagris</td>\n",
       "      <td>0.74169</td>\n",
       "      <td>0.25590</td>\n",
       "      <td>11.12800</td>\n",
       "      <td>-3.63810</td>\n",
       "      <td>True</td>\n",
       "      <td>451.73934</td>\n",
       "    </tr>\n",
       "    <tr>\n",
       "      <th>2</th>\n",
       "      <td>100.10018</td>\n",
       "      <td>0.48681</td>\n",
       "      <td>-101.76163</td>\n",
       "      <td>-1.25433</td>\n",
       "      <td>200.06768</td>\n",
       "      <td>-91.08115</td>\n",
       "      <td>Polkagris</td>\n",
       "      <td>-1.75279</td>\n",
       "      <td>0.76439</td>\n",
       "      <td>12.83530</td>\n",
       "      <td>-0.52512</td>\n",
       "      <td>True</td>\n",
       "      <td>449.62008</td>\n",
       "    </tr>\n",
       "    <tr>\n",
       "      <th>3</th>\n",
       "      <td>100.01433</td>\n",
       "      <td>0.80652</td>\n",
       "      <td>-96.01828</td>\n",
       "      <td>-1.22024</td>\n",
       "      <td>199.98485</td>\n",
       "      <td>-90.82540</td>\n",
       "      <td>Polkagris</td>\n",
       "      <td>0.37051</td>\n",
       "      <td>0.75879</td>\n",
       "      <td>9.54447</td>\n",
       "      <td>0.20145</td>\n",
       "      <td>True</td>\n",
       "      <td>452.06249</td>\n",
       "    </tr>\n",
       "    <tr>\n",
       "      <th>4</th>\n",
       "      <td>99.09649</td>\n",
       "      <td>0.65778</td>\n",
       "      <td>-100.90883</td>\n",
       "      <td>-1.20198</td>\n",
       "      <td>199.06899</td>\n",
       "      <td>-86.97312</td>\n",
       "      <td>Slängpolskorgris</td>\n",
       "      <td>-1.52795</td>\n",
       "      <td>-0.49527</td>\n",
       "      <td>11.04676</td>\n",
       "      <td>1.36818</td>\n",
       "      <td>True</td>\n",
       "      <td>445.02802</td>\n",
       "    </tr>\n",
       "  </tbody>\n",
       "</table>\n",
       "</div>"
      ],
      "text/plain": [
       "          x1       x2         x3       x4         x5        x6  \\\n",
       "0   99.34096 -0.67540  -96.38556 -1.19631  199.31533 -86.16157   \n",
       "1  100.60896  0.18439 -102.61094 -1.23638  200.57851 -93.29574   \n",
       "2  100.10018  0.48681 -101.76163 -1.25433  200.06768 -91.08115   \n",
       "3  100.01433  0.80652  -96.01828 -1.22024  199.98485 -90.82540   \n",
       "4   99.09649  0.65778 -100.90883 -1.20198  199.06899 -86.97312   \n",
       "\n",
       "                 x7       x8       x9       x10      x11   x12        x13  \n",
       "0  Slängpolskorgris  0.62378  0.42649  12.10197  3.43177  True  448.51202  \n",
       "1         Polkagris  0.74169  0.25590  11.12800 -3.63810  True  451.73934  \n",
       "2         Polkagris -1.75279  0.76439  12.83530 -0.52512  True  449.62008  \n",
       "3         Polkagris  0.37051  0.75879   9.54447  0.20145  True  452.06249  \n",
       "4  Slängpolskorgris -1.52795 -0.49527  11.04676  1.36818  True  445.02802  "
      ]
     },
     "execution_count": 130,
     "metadata": {},
     "output_type": "execute_result"
    }
   ],
   "source": [
    "test_df = pd.read_csv('EvaluateOnMe.csv')\n",
    "test_df.head()"
   ]
  },
  {
   "cell_type": "code",
   "execution_count": 131,
   "id": "64853b80",
   "metadata": {},
   "outputs": [
    {
     "name": "stdout",
     "output_type": "stream",
     "text": [
      "The 'x12' column has 1 unique value(s).\n",
      "Column 'x12' has been successfully removed.\n"
     ]
    }
   ],
   "source": [
    "unique_value_count = test_df['x12'].nunique()\n",
    "print(f\"The 'x12' column has {unique_value_count} unique value(s).\")\n",
    "if unique_value_count == 1:\n",
    "    # axis=1 specifies we are dropping a column\n",
    "    # inplace=True modifies the DataFrame directly\n",
    "    test_df.drop('x12', axis=1, inplace=True)\n",
    "    print(\"Column 'x12' has been successfully removed.\")"
   ]
  },
  {
   "cell_type": "code",
   "execution_count": 132,
   "id": "4f74fb94",
   "metadata": {},
   "outputs": [],
   "source": [
    "# One hot coding for x7\n",
    "# drop_first=True: To Avoid Multicollinearity (For Linear Models)\n",
    "test_df_dummy = pd.get_dummies(test_df['x7'], prefix='x7',drop_first=True)\n",
    "test_df = pd.concat([test_df, test_df_dummy], axis=1).drop(['x7'], axis=1)"
   ]
  },
  {
   "cell_type": "code",
   "execution_count": 133,
   "id": "07e27908",
   "metadata": {},
   "outputs": [],
   "source": [
    "# Drop redundant variables\n",
    "test_df_clean = test_df.drop(['x5', 'x13'], axis=1)"
   ]
  },
  {
   "cell_type": "code",
   "execution_count": 134,
   "id": "a5c73241",
   "metadata": {},
   "outputs": [
    {
     "name": "stdout",
     "output_type": "stream",
     "text": [
      "<class 'pandas.core.frame.DataFrame'>\n",
      "RangeIndex: 10000 entries, 0 to 9999\n",
      "Data columns (total 13 columns):\n",
      " #   Column               Non-Null Count  Dtype  \n",
      "---  ------               --------------  -----  \n",
      " 0   x1                   10000 non-null  float64\n",
      " 1   x2                   10000 non-null  float64\n",
      " 2   x3                   10000 non-null  float64\n",
      " 3   x4                   10000 non-null  float64\n",
      " 4   x6                   10000 non-null  float64\n",
      " 5   x8                   10000 non-null  float64\n",
      " 6   x9                   10000 non-null  float64\n",
      " 7   x10                  10000 non-null  float64\n",
      " 8   x11                  10000 non-null  float64\n",
      " 9   x7_Polkagris         10000 non-null  uint8  \n",
      " 10  x7_Polskorgris       10000 non-null  uint8  \n",
      " 11  x7_Schottisgris      10000 non-null  uint8  \n",
      " 12  x7_Slängpolskorgris  10000 non-null  uint8  \n",
      "dtypes: float64(9), uint8(4)\n",
      "memory usage: 742.3 KB\n"
     ]
    }
   ],
   "source": [
    "test_df_clean.info()"
   ]
  },
  {
   "cell_type": "code",
   "execution_count": 135,
   "id": "022b97c8",
   "metadata": {},
   "outputs": [],
   "source": [
    "\n",
    "# 预测测试集\n",
    "X_test_scaled = scaler_final.transform(test_df_clean)\n",
    "y_test_pred = best_clf.predict(X_test_scaled)\n",
    "\n",
    "# 保存预测结果\n",
    "np.savetxt(\"y_pred.txt\", y_test_pred, fmt='%s')"
   ]
  },
  {
   "cell_type": "markdown",
   "id": "fc5390bd",
   "metadata": {},
   "source": []
  }
 ],
 "metadata": {
  "kernelspec": {
   "display_name": "pytorch_3_9",
   "language": "python",
   "name": "python3"
  },
  "language_info": {
   "codemirror_mode": {
    "name": "ipython",
    "version": 3
   },
   "file_extension": ".py",
   "mimetype": "text/x-python",
   "name": "python",
   "nbconvert_exporter": "python",
   "pygments_lexer": "ipython3",
   "version": "3.9.23"
  }
 },
 "nbformat": 4,
 "nbformat_minor": 5
}
