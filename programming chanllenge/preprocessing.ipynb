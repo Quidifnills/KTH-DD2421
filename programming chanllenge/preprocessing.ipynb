{
 "cells": [
  {
   "cell_type": "code",
   "execution_count": 1,
   "id": "1a5992a1",
   "metadata": {},
   "outputs": [
    {
     "data": {
      "application/vnd.microsoft.datawrangler.viewer.v0+json": {
       "columns": [
        {
         "name": "index",
         "rawType": "int64",
         "type": "integer"
        },
        {
         "name": "y",
         "rawType": "object",
         "type": "string"
        },
        {
         "name": "x1",
         "rawType": "float64",
         "type": "float"
        },
        {
         "name": "x2",
         "rawType": "float64",
         "type": "float"
        },
        {
         "name": "x3",
         "rawType": "float64",
         "type": "float"
        },
        {
         "name": "x4",
         "rawType": "float64",
         "type": "float"
        },
        {
         "name": "x5",
         "rawType": "float64",
         "type": "float"
        },
        {
         "name": "x6",
         "rawType": "float64",
         "type": "float"
        },
        {
         "name": "x7",
         "rawType": "object",
         "type": "string"
        },
        {
         "name": "x8",
         "rawType": "float64",
         "type": "float"
        },
        {
         "name": "x9",
         "rawType": "float64",
         "type": "float"
        },
        {
         "name": "x10",
         "rawType": "float64",
         "type": "float"
        },
        {
         "name": "x11",
         "rawType": "float64",
         "type": "float"
        },
        {
         "name": "x12",
         "rawType": "bool",
         "type": "boolean"
        },
        {
         "name": "x13",
         "rawType": "float64",
         "type": "float"
        }
       ],
       "ref": "fb6404ba-cb06-405e-ba74-8d9de54cccb5",
       "rows": [
        [
         "0",
         "Jorgsuto",
         "99.62776",
         "-0.7473",
         "-106.04085",
         "-1.21694",
         "199.59889",
         "-88.84034",
         "Slängpolskorgris",
         "1.36603",
         "2.62967",
         "12.1771",
         "-3.38007",
         "True",
         "445.11836"
        ],
        [
         "1",
         "Andjorg",
         "100.22296",
         "0.85161",
         "-98.91119",
         "-1.23724",
         "200.1924",
         "-89.88662",
         "Polkagris",
         "-2.23901",
         "0.6537",
         "10.72266",
         "-2.38136",
         "True",
         "451.65919"
        ],
        [
         "2",
         "Andsuto",
         "100.12711",
         "0.22396",
         "-96.58029",
         "-1.18725",
         "200.10113",
         "-89.18542",
         "Polkagris",
         "0.38295",
         "-0.58657",
         "12.60082",
         "-1.28045",
         "True",
         "452.3454"
        ],
        [
         "3",
         "Jorgsuto",
         "100.81843",
         "0.0212",
         "-102.78871",
         "-1.26271",
         "200.78442",
         "-92.007",
         "Polkagris",
         "-0.28207",
         "0.81744",
         "13.5745",
         "0.12083",
         "True",
         "452.6978"
        ],
        [
         "4",
         "Jorgsuto",
         "101.07489",
         "1.18863",
         "-101.29639",
         "-1.23077",
         "201.04424",
         "-92.83613",
         "Schottisgris",
         "1.31717",
         "0.69887",
         "12.50238",
         "-0.71997",
         "True",
         "454.72627"
        ]
       ],
       "shape": {
        "columns": 14,
        "rows": 5
       }
      },
      "text/html": [
       "<div>\n",
       "<style scoped>\n",
       "    .dataframe tbody tr th:only-of-type {\n",
       "        vertical-align: middle;\n",
       "    }\n",
       "\n",
       "    .dataframe tbody tr th {\n",
       "        vertical-align: top;\n",
       "    }\n",
       "\n",
       "    .dataframe thead th {\n",
       "        text-align: right;\n",
       "    }\n",
       "</style>\n",
       "<table border=\"1\" class=\"dataframe\">\n",
       "  <thead>\n",
       "    <tr style=\"text-align: right;\">\n",
       "      <th></th>\n",
       "      <th>y</th>\n",
       "      <th>x1</th>\n",
       "      <th>x2</th>\n",
       "      <th>x3</th>\n",
       "      <th>x4</th>\n",
       "      <th>x5</th>\n",
       "      <th>x6</th>\n",
       "      <th>x7</th>\n",
       "      <th>x8</th>\n",
       "      <th>x9</th>\n",
       "      <th>x10</th>\n",
       "      <th>x11</th>\n",
       "      <th>x12</th>\n",
       "      <th>x13</th>\n",
       "    </tr>\n",
       "  </thead>\n",
       "  <tbody>\n",
       "    <tr>\n",
       "      <th>0</th>\n",
       "      <td>Jorgsuto</td>\n",
       "      <td>99.62776</td>\n",
       "      <td>-0.74730</td>\n",
       "      <td>-106.04085</td>\n",
       "      <td>-1.21694</td>\n",
       "      <td>199.59889</td>\n",
       "      <td>-88.84034</td>\n",
       "      <td>Slängpolskorgris</td>\n",
       "      <td>1.36603</td>\n",
       "      <td>2.62967</td>\n",
       "      <td>12.17710</td>\n",
       "      <td>-3.38007</td>\n",
       "      <td>True</td>\n",
       "      <td>445.11836</td>\n",
       "    </tr>\n",
       "    <tr>\n",
       "      <th>1</th>\n",
       "      <td>Andjorg</td>\n",
       "      <td>100.22296</td>\n",
       "      <td>0.85161</td>\n",
       "      <td>-98.91119</td>\n",
       "      <td>-1.23724</td>\n",
       "      <td>200.19240</td>\n",
       "      <td>-89.88662</td>\n",
       "      <td>Polkagris</td>\n",
       "      <td>-2.23901</td>\n",
       "      <td>0.65370</td>\n",
       "      <td>10.72266</td>\n",
       "      <td>-2.38136</td>\n",
       "      <td>True</td>\n",
       "      <td>451.65919</td>\n",
       "    </tr>\n",
       "    <tr>\n",
       "      <th>2</th>\n",
       "      <td>Andsuto</td>\n",
       "      <td>100.12711</td>\n",
       "      <td>0.22396</td>\n",
       "      <td>-96.58029</td>\n",
       "      <td>-1.18725</td>\n",
       "      <td>200.10113</td>\n",
       "      <td>-89.18542</td>\n",
       "      <td>Polkagris</td>\n",
       "      <td>0.38295</td>\n",
       "      <td>-0.58657</td>\n",
       "      <td>12.60082</td>\n",
       "      <td>-1.28045</td>\n",
       "      <td>True</td>\n",
       "      <td>452.34540</td>\n",
       "    </tr>\n",
       "    <tr>\n",
       "      <th>3</th>\n",
       "      <td>Jorgsuto</td>\n",
       "      <td>100.81843</td>\n",
       "      <td>0.02120</td>\n",
       "      <td>-102.78871</td>\n",
       "      <td>-1.26271</td>\n",
       "      <td>200.78442</td>\n",
       "      <td>-92.00700</td>\n",
       "      <td>Polkagris</td>\n",
       "      <td>-0.28207</td>\n",
       "      <td>0.81744</td>\n",
       "      <td>13.57450</td>\n",
       "      <td>0.12083</td>\n",
       "      <td>True</td>\n",
       "      <td>452.69780</td>\n",
       "    </tr>\n",
       "    <tr>\n",
       "      <th>4</th>\n",
       "      <td>Jorgsuto</td>\n",
       "      <td>101.07489</td>\n",
       "      <td>1.18863</td>\n",
       "      <td>-101.29639</td>\n",
       "      <td>-1.23077</td>\n",
       "      <td>201.04424</td>\n",
       "      <td>-92.83613</td>\n",
       "      <td>Schottisgris</td>\n",
       "      <td>1.31717</td>\n",
       "      <td>0.69887</td>\n",
       "      <td>12.50238</td>\n",
       "      <td>-0.71997</td>\n",
       "      <td>True</td>\n",
       "      <td>454.72627</td>\n",
       "    </tr>\n",
       "  </tbody>\n",
       "</table>\n",
       "</div>"
      ],
      "text/plain": [
       "          y         x1       x2         x3       x4         x5        x6  \\\n",
       "0  Jorgsuto   99.62776 -0.74730 -106.04085 -1.21694  199.59889 -88.84034   \n",
       "1   Andjorg  100.22296  0.85161  -98.91119 -1.23724  200.19240 -89.88662   \n",
       "2   Andsuto  100.12711  0.22396  -96.58029 -1.18725  200.10113 -89.18542   \n",
       "3  Jorgsuto  100.81843  0.02120 -102.78871 -1.26271  200.78442 -92.00700   \n",
       "4  Jorgsuto  101.07489  1.18863 -101.29639 -1.23077  201.04424 -92.83613   \n",
       "\n",
       "                 x7       x8       x9       x10      x11   x12        x13  \n",
       "0  Slängpolskorgris  1.36603  2.62967  12.17710 -3.38007  True  445.11836  \n",
       "1         Polkagris -2.23901  0.65370  10.72266 -2.38136  True  451.65919  \n",
       "2         Polkagris  0.38295 -0.58657  12.60082 -1.28045  True  452.34540  \n",
       "3         Polkagris -0.28207  0.81744  13.57450  0.12083  True  452.69780  \n",
       "4      Schottisgris  1.31717  0.69887  12.50238 -0.71997  True  454.72627  "
      ]
     },
     "execution_count": 1,
     "metadata": {},
     "output_type": "execute_result"
    }
   ],
   "source": [
    "import pandas as pd\n",
    "import numpy as np\n",
    "from sklearn.preprocessing import MinMaxScaler, StandardScaler\n",
    "import seaborn as sns\n",
    "import matplotlib.pyplot as plt\n",
    "\n",
    "df = pd.read_csv('TrainOnMe_orig.csv')\n",
    "df.head()"
   ]
  },
  {
   "cell_type": "code",
   "execution_count": 2,
   "id": "3e184b1f",
   "metadata": {},
   "outputs": [
    {
     "name": "stdout",
     "output_type": "stream",
     "text": [
      "<class 'pandas.core.frame.DataFrame'>\n",
      "RangeIndex: 1000 entries, 0 to 999\n",
      "Data columns (total 14 columns):\n",
      " #   Column  Non-Null Count  Dtype  \n",
      "---  ------  --------------  -----  \n",
      " 0   y       1000 non-null   object \n",
      " 1   x1      1000 non-null   float64\n",
      " 2   x2      1000 non-null   float64\n",
      " 3   x3      1000 non-null   float64\n",
      " 4   x4      1000 non-null   float64\n",
      " 5   x5      1000 non-null   float64\n",
      " 6   x6      1000 non-null   float64\n",
      " 7   x7      1000 non-null   object \n",
      " 8   x8      1000 non-null   float64\n",
      " 9   x9      1000 non-null   float64\n",
      " 10  x10     1000 non-null   float64\n",
      " 11  x11     1000 non-null   float64\n",
      " 12  x12     1000 non-null   bool   \n",
      " 13  x13     1000 non-null   float64\n",
      "dtypes: bool(1), float64(11), object(2)\n",
      "memory usage: 102.7+ KB\n",
      "y      0\n",
      "x1     0\n",
      "x2     0\n",
      "x3     0\n",
      "x4     0\n",
      "x5     0\n",
      "x6     0\n",
      "x7     0\n",
      "x8     0\n",
      "x9     0\n",
      "x10    0\n",
      "x11    0\n",
      "x12    0\n",
      "x13    0\n",
      "dtype: int64\n"
     ]
    }
   ],
   "source": [
    "df.info()\n",
    "print(df.isnull().sum())"
   ]
  },
  {
   "cell_type": "code",
   "execution_count": 5,
   "id": "b4a12ea8",
   "metadata": {},
   "outputs": [
    {
     "data": {
      "image/png": "[encoded data removed]",
      "text/plain": [
       "<Figure size 1045x1710 with 11 Axes>"
      ]
     },
     "metadata": {},
     "output_type": "display_data"
    }
   ],
   "source": [
    "df.describe()\n",
    "numerical_cols = ['x1', 'x2', 'x3', 'x4', 'x5', 'x6', 'x8', 'x9', 'x10', 'x11', 'x13']\n",
    "\n",
    "fig, axs = plt.subplots(len(numerical_cols), 1, figsize=(11, 18), dpi=95)\n",
    "for i, col in enumerate(numerical_cols):\n",
    "    axs[i].boxplot(df[col], vert=False)\n",
    "    axs[i].set_ylabel(col)\n",
    "plt.tight_layout()\n",
    "plt.show()"
   ]
  },
  {
   "cell_type": "code",
   "execution_count": null,
   "id": "65d0c5f4",
   "metadata": {},
   "outputs": [],
   "source": []
  }
 ],
 "metadata": {
  "kernelspec": {
   "display_name": "pytorch_3_9",
   "language": "python",
   "name": "python3"
  },
  "language_info": {
   "codemirror_mode": {
    "name": "ipython",
    "version": 3
   },
   "file_extension": ".py",
   "mimetype": "text/x-python",
   "name": "python",
   "nbconvert_exporter": "python",
   "pygments_lexer": "ipython3",
   "version": "3.9.23"
  }
 },
 "nbformat": 4,
 "nbformat_minor": 5
}
