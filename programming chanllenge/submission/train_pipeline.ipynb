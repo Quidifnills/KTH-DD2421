{
 "cells": [
  {
   "cell_type": "markdown",
   "id": "0a369226",
   "metadata": {},
   "source": [
    "# DD2421 Machine Learning: Programming Challenge"
   ]
  },
  {
   "cell_type": "markdown",
   "id": "19650b53",
   "metadata": {},
   "source": [
    "Explored to encapsulate the preprocessing and predict step into pipeline, the same process otherwise"
   ]
  },
  {
   "cell_type": "code",
   "execution_count": 1,
   "id": "76e6662b",
   "metadata": {},
   "outputs": [],
   "source": [
    "import pandas as pd\n",
    "import scipy.stats as stats\n",
    "from sklearn.model_selection import StratifiedKFold, cross_val_score, train_test_split\n",
    "from sklearn.preprocessing import StandardScaler, OneHotEncoder\n",
    "from sklearn.metrics import accuracy_score, f1_score\n",
    "from sklearn.compose import ColumnTransformer\n",
    "from sklearn.pipeline import Pipeline\n",
    "from sklearn.neighbors import KNeighborsClassifier\n",
    "from sklearn.tree import DecisionTreeClassifier\n",
    "from sklearn.ensemble import (RandomForestClassifier, GradientBoostingClassifier, \n",
    "                               ExtraTreesClassifier, AdaBoostClassifier, BaggingClassifier)\n",
    "from sklearn.neural_network import MLPClassifier\n",
    "from sklearn.svm import SVC\n",
    "from sklearn.linear_model import RidgeClassifierCV\n",
    "import numpy as np\n",
    "import matplotlib.pyplot as plt\n",
    "import pandas as pd\n",
    "import seaborn as sb\n",
    "import time"
   ]
  },
  {
   "cell_type": "code",
   "execution_count": 2,
   "id": "d28b4f40",
   "metadata": {},
   "outputs": [
    {
     "data": {
      "application/vnd.microsoft.datawrangler.viewer.v0+json": {
       "columns": [
        {
         "name": "index",
         "rawType": "int64",
         "type": "integer"
        },
        {
         "name": "y",
         "rawType": "object",
         "type": "string"
        },
        {
         "name": "x1",
         "rawType": "float64",
         "type": "float"
        },
        {
         "name": "x2",
         "rawType": "float64",
         "type": "float"
        },
        {
         "name": "x3",
         "rawType": "float64",
         "type": "float"
        },
        {
         "name": "x4",
         "rawType": "float64",
         "type": "float"
        },
        {
         "name": "x5",
         "rawType": "float64",
         "type": "float"
        },
        {
         "name": "x6",
         "rawType": "float64",
         "type": "float"
        },
        {
         "name": "x7",
         "rawType": "object",
         "type": "string"
        },
        {
         "name": "x8",
         "rawType": "float64",
         "type": "float"
        },
        {
         "name": "x9",
         "rawType": "float64",
         "type": "float"
        },
        {
         "name": "x10",
         "rawType": "float64",
         "type": "float"
        },
        {
         "name": "x11",
         "rawType": "float64",
         "type": "float"
        },
        {
         "name": "x12",
         "rawType": "bool",
         "type": "boolean"
        },
        {
         "name": "x13",
         "rawType": "float64",
         "type": "float"
        }
       ],
       "ref": "83d33998-dd23-4da5-bded-457c3addc4dd",
       "rows": [
        [
         "0",
         "Jorgsuto",
         "99.62776",
         "-0.7473",
         "-106.04085",
         "-1.21694",
         "199.59889",
         "-88.84034",
         "Slängpolskorgris",
         "1.36603",
         "2.62967",
         "12.1771",
         "-3.38007",
         "True",
         "445.11836"
        ],
        [
         "1",
         "Andjorg",
         "100.22296",
         "0.85161",
         "-98.91119",
         "-1.23724",
         "200.1924",
         "-89.88662",
         "Polkagris",
         "-2.23901",
         "0.6537",
         "10.72266",
         "-2.38136",
         "True",
         "451.65919"
        ],
        [
         "2",
         "Andsuto",
         "100.12711",
         "0.22396",
         "-96.58029",
         "-1.18725",
         "200.10113",
         "-89.18542",
         "Polkagris",
         "0.38295",
         "-0.58657",
         "12.60082",
         "-1.28045",
         "True",
         "452.3454"
        ],
        [
         "3",
         "Jorgsuto",
         "100.81843",
         "0.0212",
         "-102.78871",
         "-1.26271",
         "200.78442",
         "-92.007",
         "Polkagris",
         "-0.28207",
         "0.81744",
         "13.5745",
         "0.12083",
         "True",
         "452.6978"
        ],
        [
         "4",
         "Jorgsuto",
         "101.07489",
         "1.18863",
         "-101.29639",
         "-1.23077",
         "201.04424",
         "-92.83613",
         "Schottisgris",
         "1.31717",
         "0.69887",
         "12.50238",
         "-0.71997",
         "True",
         "454.72627"
        ]
       ],
       "shape": {
        "columns": 14,
        "rows": 5
       }
      },
      "text/html": [
       "<div>\n",
       "<style scoped>\n",
       "    .dataframe tbody tr th:only-of-type {\n",
       "        vertical-align: middle;\n",
       "    }\n",
       "\n",
       "    .dataframe tbody tr th {\n",
       "        vertical-align: top;\n",
       "    }\n",
       "\n",
       "    .dataframe thead th {\n",
       "        text-align: right;\n",
       "    }\n",
       "</style>\n",
       "<table border=\"1\" class=\"dataframe\">\n",
       "  <thead>\n",
       "    <tr style=\"text-align: right;\">\n",
       "      <th></th>\n",
       "      <th>y</th>\n",
       "      <th>x1</th>\n",
       "      <th>x2</th>\n",
       "      <th>x3</th>\n",
       "      <th>x4</th>\n",
       "      <th>x5</th>\n",
       "      <th>x6</th>\n",
       "      <th>x7</th>\n",
       "      <th>x8</th>\n",
       "      <th>x9</th>\n",
       "      <th>x10</th>\n",
       "      <th>x11</th>\n",
       "      <th>x12</th>\n",
       "      <th>x13</th>\n",
       "    </tr>\n",
       "  </thead>\n",
       "  <tbody>\n",
       "    <tr>\n",
       "      <th>0</th>\n",
       "      <td>Jorgsuto</td>\n",
       "      <td>99.62776</td>\n",
       "      <td>-0.74730</td>\n",
       "      <td>-106.04085</td>\n",
       "      <td>-1.21694</td>\n",
       "      <td>199.59889</td>\n",
       "      <td>-88.84034</td>\n",
       "      <td>Slängpolskorgris</td>\n",
       "      <td>1.36603</td>\n",
       "      <td>2.62967</td>\n",
       "      <td>12.17710</td>\n",
       "      <td>-3.38007</td>\n",
       "      <td>True</td>\n",
       "      <td>445.11836</td>\n",
       "    </tr>\n",
       "    <tr>\n",
       "      <th>1</th>\n",
       "      <td>Andjorg</td>\n",
       "      <td>100.22296</td>\n",
       "      <td>0.85161</td>\n",
       "      <td>-98.91119</td>\n",
       "      <td>-1.23724</td>\n",
       "      <td>200.19240</td>\n",
       "      <td>-89.88662</td>\n",
       "      <td>Polkagris</td>\n",
       "      <td>-2.23901</td>\n",
       "      <td>0.65370</td>\n",
       "      <td>10.72266</td>\n",
       "      <td>-2.38136</td>\n",
       "      <td>True</td>\n",
       "      <td>451.65919</td>\n",
       "    </tr>\n",
       "    <tr>\n",
       "      <th>2</th>\n",
       "      <td>Andsuto</td>\n",
       "      <td>100.12711</td>\n",
       "      <td>0.22396</td>\n",
       "      <td>-96.58029</td>\n",
       "      <td>-1.18725</td>\n",
       "      <td>200.10113</td>\n",
       "      <td>-89.18542</td>\n",
       "      <td>Polkagris</td>\n",
       "      <td>0.38295</td>\n",
       "      <td>-0.58657</td>\n",
       "      <td>12.60082</td>\n",
       "      <td>-1.28045</td>\n",
       "      <td>True</td>\n",
       "      <td>452.34540</td>\n",
       "    </tr>\n",
       "    <tr>\n",
       "      <th>3</th>\n",
       "      <td>Jorgsuto</td>\n",
       "      <td>100.81843</td>\n",
       "      <td>0.02120</td>\n",
       "      <td>-102.78871</td>\n",
       "      <td>-1.26271</td>\n",
       "      <td>200.78442</td>\n",
       "      <td>-92.00700</td>\n",
       "      <td>Polkagris</td>\n",
       "      <td>-0.28207</td>\n",
       "      <td>0.81744</td>\n",
       "      <td>13.57450</td>\n",
       "      <td>0.12083</td>\n",
       "      <td>True</td>\n",
       "      <td>452.69780</td>\n",
       "    </tr>\n",
       "    <tr>\n",
       "      <th>4</th>\n",
       "      <td>Jorgsuto</td>\n",
       "      <td>101.07489</td>\n",
       "      <td>1.18863</td>\n",
       "      <td>-101.29639</td>\n",
       "      <td>-1.23077</td>\n",
       "      <td>201.04424</td>\n",
       "      <td>-92.83613</td>\n",
       "      <td>Schottisgris</td>\n",
       "      <td>1.31717</td>\n",
       "      <td>0.69887</td>\n",
       "      <td>12.50238</td>\n",
       "      <td>-0.71997</td>\n",
       "      <td>True</td>\n",
       "      <td>454.72627</td>\n",
       "    </tr>\n",
       "  </tbody>\n",
       "</table>\n",
       "</div>"
      ],
      "text/plain": [
       "          y         x1       x2         x3       x4         x5        x6  \\\n",
       "0  Jorgsuto   99.62776 -0.74730 -106.04085 -1.21694  199.59889 -88.84034   \n",
       "1   Andjorg  100.22296  0.85161  -98.91119 -1.23724  200.19240 -89.88662   \n",
       "2   Andsuto  100.12711  0.22396  -96.58029 -1.18725  200.10113 -89.18542   \n",
       "3  Jorgsuto  100.81843  0.02120 -102.78871 -1.26271  200.78442 -92.00700   \n",
       "4  Jorgsuto  101.07489  1.18863 -101.29639 -1.23077  201.04424 -92.83613   \n",
       "\n",
       "                 x7       x8       x9       x10      x11   x12        x13  \n",
       "0  Slängpolskorgris  1.36603  2.62967  12.17710 -3.38007  True  445.11836  \n",
       "1         Polkagris -2.23901  0.65370  10.72266 -2.38136  True  451.65919  \n",
       "2         Polkagris  0.38295 -0.58657  12.60082 -1.28045  True  452.34540  \n",
       "3         Polkagris -0.28207  0.81744  13.57450  0.12083  True  452.69780  \n",
       "4      Schottisgris  1.31717  0.69887  12.50238 -0.71997  True  454.72627  "
      ]
     },
     "execution_count": 2,
     "metadata": {},
     "output_type": "execute_result"
    }
   ],
   "source": [
    "# Load Train and Test set\n",
    "df = pd.read_csv('TrainOnMe_orig.csv')\n",
    "test_df = pd.read_csv('EvaluateOnMe.csv')\n",
    "df.head()"
   ]
  },
  {
   "cell_type": "code",
   "execution_count": 3,
   "id": "870da31d",
   "metadata": {},
   "outputs": [
    {
     "name": "stdout",
     "output_type": "stream",
     "text": [
      "<class 'pandas.core.frame.DataFrame'>\n",
      "RangeIndex: 1000 entries, 0 to 999\n",
      "Data columns (total 14 columns):\n",
      " #   Column  Non-Null Count  Dtype  \n",
      "---  ------  --------------  -----  \n",
      " 0   y       1000 non-null   object \n",
      " 1   x1      1000 non-null   float64\n",
      " 2   x2      1000 non-null   float64\n",
      " 3   x3      1000 non-null   float64\n",
      " 4   x4      1000 non-null   float64\n",
      " 5   x5      1000 non-null   float64\n",
      " 6   x6      1000 non-null   float64\n",
      " 7   x7      1000 non-null   object \n",
      " 8   x8      1000 non-null   float64\n",
      " 9   x9      1000 non-null   float64\n",
      " 10  x10     1000 non-null   float64\n",
      " 11  x11     1000 non-null   float64\n",
      " 12  x12     1000 non-null   bool   \n",
      " 13  x13     1000 non-null   float64\n",
      "dtypes: bool(1), float64(11), object(2)\n",
      "memory usage: 102.7+ KB\n"
     ]
    }
   ],
   "source": [
    "df.info()"
   ]
  },
  {
   "cell_type": "code",
   "execution_count": 4,
   "id": "7dc2cbba",
   "metadata": {},
   "outputs": [],
   "source": [
    "# Divide the train set into features and labels\n",
    "X = df.drop(['y'], axis=1)\n",
    "y = df['y']"
   ]
  },
  {
   "cell_type": "markdown",
   "id": "4216ac83",
   "metadata": {},
   "source": [
    "## Pipeline for dropping data"
   ]
  },
  {
   "cell_type": "code",
   "execution_count": 5,
   "id": "6bf7e82c",
   "metadata": {},
   "outputs": [],
   "source": [
    "# Given the analysis in preprocesssing_classify_manually.ipynb,\n",
    "# I directly decide to select the following features for preprocessing in pipeline\n",
    "features_to_drop = ['x12', 'x5', 'x13']\n",
    "categorical_features = ['x7']\n",
    "numerical_features = [col for col in X.columns if col not in categorical_features + features_to_drop]\n"
   ]
  },
  {
   "cell_type": "code",
   "execution_count": 6,
   "id": "07ba3075",
   "metadata": {},
   "outputs": [],
   "source": [
    "# Create a preprocessor\n",
    "# The preprocessor standardizes the numerical features\n",
    "# and encodes the categorical features with OneHotEncoder\n",
    "\n",
    "preprocessor = ColumnTransformer(\n",
    "    transformers=[\n",
    "        ('num', StandardScaler(), numerical_features),\n",
    "        ('cat', OneHotEncoder(handle_unknown='ignore', drop='first'), categorical_features),\n",
    "        ('drop', 'drop', features_to_drop)\n",
    "    ],\n",
    "    remainder='passthrough' # 保留其他未指定的列（如果有的话）\n",
    ")"
   ]
  },
  {
   "cell_type": "code",
   "execution_count": 7,
   "id": "ec58f346",
   "metadata": {},
   "outputs": [],
   "source": [
    "RANDOM_STATE = 42\n",
    "# cross validation\n",
    "n_splits = 10\n",
    "skf = StratifiedKFold(n_splits=n_splits, shuffle=True, random_state=RANDOM_STATE)\n",
    "\n",
    "# Divide the train set into train set and validation set\n",
    "X_train, X_val, y_train, y_val = train_test_split(\n",
    "    X, y, test_size=0.2, random_state=RANDOM_STATE, stratify=y\n",
    ")\n"
   ]
  },
  {
   "cell_type": "code",
   "execution_count": 8,
   "id": "43810a6d",
   "metadata": {},
   "outputs": [],
   "source": [
    "# All the classifers to compare\n",
    "classifiers = {\n",
    "    \"K-neighbours\": KNeighborsClassifier(),\n",
    "    \"Decision tree\": DecisionTreeClassifier(random_state=RANDOM_STATE),\n",
    "    \"Random forest\": RandomForestClassifier(random_state=RANDOM_STATE),\n",
    "    \"Gradient Boosting\": GradientBoostingClassifier(random_state=RANDOM_STATE),\n",
    "    \"Extremely random forest\": ExtraTreesClassifier(random_state=RANDOM_STATE),\n",
    "    \"Adaboost\": AdaBoostClassifier(random_state=RANDOM_STATE),\n",
    "    \"Bagging\": BaggingClassifier(random_state=RANDOM_STATE),\n",
    "    \"MLP\": MLPClassifier(max_iter=2000, hidden_layer_sizes=(20,20), random_state=RANDOM_STATE),\n",
    "    \"SVM (rbf)\": SVC(random_state=RANDOM_STATE),\n",
    "    \"SVM (linear)\": SVC(kernel=\"linear\", random_state=RANDOM_STATE),\n",
    "    \"SVM (polynomial)\": SVC(kernel=\"poly\", random_state=RANDOM_STATE),\n",
    "    \"Ridge Classifier\": RidgeClassifierCV()\n",
    "}\n",
    "\n"
   ]
  },
  {
   "cell_type": "code",
   "execution_count": 9,
   "id": "e1108176",
   "metadata": {},
   "outputs": [
    {
     "name": "stdout",
     "output_type": "stream",
     "text": [
      "Training: K-neighbours...\n",
      "Training: Decision tree...\n",
      "Training: Random forest...\n",
      "Training: Gradient Boosting...\n",
      "Training: Extremely random forest...\n",
      "Training: Adaboost...\n",
      "Training: Bagging...\n",
      "Training: MLP...\n",
      "Training: SVM (rbf)...\n",
      "Training: SVM (linear)...\n",
      "Training: SVM (polynomial)...\n",
      "Training: Ridge Classifier...\n",
      "\n",
      "======================================================================\n",
      "             Classifier  CV_Mean   CV_Std  Val_Accuracy   Val_F1\n",
      "      Gradient Boosting  0.86125 0.025890         0.840 0.832099\n",
      "Extremely random forest  0.84125 0.020194         0.820 0.803224\n",
      "          Random forest  0.87125 0.030644         0.810 0.801870\n",
      "              SVM (rbf)  0.83375 0.018583         0.810 0.798370\n",
      "           K-neighbours  0.75875 0.024399         0.800 0.775220\n",
      "                Bagging  0.85000 0.021651         0.790 0.782729\n",
      "           SVM (linear)  0.72500 0.037081         0.785 0.764494\n",
      "                    MLP  0.79375 0.040408         0.780 0.775374\n",
      "       SVM (polynomial)  0.76875 0.024527         0.775 0.731235\n",
      "               Adaboost  0.78250 0.035882         0.770 0.766514\n",
      "       Ridge Classifier  0.73250 0.017854         0.735 0.648605\n",
      "          Decision tree  0.80000 0.042573         0.715 0.714339\n"
     ]
    }
   ],
   "source": [
    "results = []\n",
    "\n",
    "for clf_name, clf in classifiers.items():\n",
    "    print(f\"Training: {clf_name}...\")\n",
    "    \n",
    "    # The full pipeline for preprocessor and classifier\n",
    "    pipeline = Pipeline(steps=[('preprocessor', preprocessor),\n",
    "                               ('classifier', clf)])\n",
    "    \n",
    "    # Directly cross-validate on the original train set,\n",
    "    # given that Pipeline handles every step accordingly\n",
    "    cv_scores = cross_val_score(pipeline, X_train, y_train, cv=skf, n_jobs=-1)\n",
    "    \n",
    "    # Train and Evaluate\n",
    "    pipeline.fit(X_train, y_train)\n",
    "    y_val_pred = pipeline.predict(X_val)\n",
    "    \n",
    "    # Using accuracy and f1 score\n",
    "    val_acc = accuracy_score(y_val, y_val_pred)\n",
    "    val_f1 = f1_score(y_val, y_val_pred, average='weighted')\n",
    "    \n",
    "    results.append({\n",
    "        'Classifier': clf_name,\n",
    "        'CV_Mean': cv_scores.mean(),\n",
    "        'CV_Std': cv_scores.std(),\n",
    "        'Val_Accuracy': val_acc,\n",
    "        'Val_F1': val_f1\n",
    "    })\n",
    "\n",
    "results_df = pd.DataFrame(results).sort_values('Val_Accuracy', ascending=False)\n",
    "print(\"\\n\" + \"=\"*70)\n",
    "print(results_df.to_string(index=False))\n"
   ]
  },
  {
   "cell_type": "code",
   "execution_count": 10,
   "id": "0fe327a6",
   "metadata": {},
   "outputs": [
    {
     "name": "stdout",
     "output_type": "stream",
     "text": [
      "\n",
      " Best Model: Gradient Boosting\n"
     ]
    }
   ],
   "source": [
    "# Choose the best classifer\n",
    "best_model_name = results_df.iloc[0]['Classifier']\n",
    "best_classifier = classifiers[best_model_name]\n",
    "\n",
    "print(f\"\\n Best Model: {best_model_name}\")"
   ]
  },
  {
   "cell_type": "code",
   "execution_count": null,
   "id": "f9b7f15a",
   "metadata": {},
   "outputs": [
    {
     "name": "stdout",
     "output_type": "stream",
     "text": [
      "\n",
      "Prediction on EvaluateOnMe.csv is complete and saved to y_pred_pipeline.txt.\n"
     ]
    }
   ],
   "source": [
    "# Create the final pipeline with the best classifier\n",
    "final_pipeline = Pipeline(steps=[('preprocessor', preprocessor),\n",
    "                                 ('classifier', best_classifier)])\n",
    "\n",
    "# Train the final pipeline with full train set\n",
    "final_pipeline.fit(X, y)\n",
    "\n",
    "# Directly predict on the original test set\n",
    "y_test_pred = final_pipeline.predict(test_df)\n",
    "\n",
    "# Save the results into .txt\n",
    "# The result is the same as y_pred.txt\n",
    "np.savetxt(\"y_pred_pipeline.txt\", y_test_pred, fmt='%s')\n",
    "\n",
    "print(\"\\nPrediction on EvaluateOnMe.csv is complete and saved to y_pred_pipeline.txt.\")"
   ]
  },
  {
   "cell_type": "markdown",
   "id": "fc5390bd",
   "metadata": {},
   "source": []
  }
 ],
 "metadata": {
  "kernelspec": {
   "display_name": "pytorch_3_9",
   "language": "python",
   "name": "python3"
  },
  "language_info": {
   "codemirror_mode": {
    "name": "ipython",
    "version": 3
   },
   "file_extension": ".py",
   "mimetype": "text/x-python",
   "name": "python",
   "nbconvert_exporter": "python",
   "pygments_lexer": "ipython3",
   "version": "3.9.23"
  }
 },
 "nbformat": 4,
 "nbformat_minor": 5
}
