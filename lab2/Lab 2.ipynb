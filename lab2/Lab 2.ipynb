{
 "cells": [
  {
   "cell_type": "markdown",
   "id": "a2a2d909-bd69-49b8-a13c-9b3498e0dce7",
   "metadata": {},
   "source": [
    "# Lab 2 "
   ]
  },
  {
   "cell_type": "code",
   "execution_count": 45,
   "id": "eea8e959-a160-457c-80da-538536a1d7ca",
   "metadata": {
    "editable": true,
    "slideshow": {
     "slide_type": ""
    },
    "tags": []
   },
   "outputs": [],
   "source": [
    "import numpy as np\n",
    "import random, math\n",
    "from scipy.optimize import minimize\n",
    "import matplotlib.pyplot as plt\n",
    "from IPython.display import Image, display\n"
   ]
  },
  {
   "cell_type": "markdown",
   "id": "014819f4-6b14-4be5-b5aa-8c4624e78910",
   "metadata": {
    "editable": true,
    "slideshow": {
     "slide_type": ""
    },
    "tags": []
   },
   "source": [
    "## Generate Test Data"
   ]
  },
  {
   "cell_type": "code",
   "execution_count": 46,
   "id": "90ad6385-ce3e-430f-a42a-678b0139ebd5",
   "metadata": {
    "editable": true,
    "slideshow": {
     "slide_type": ""
    },
    "tags": []
   },
   "outputs": [],
   "source": [
    "def generate_data(classA_centers, classB_center, \\\n",
    "                  std=0.4, classA_size=10, classB_size=20, seed=100):\n",
    "    np.random.seed(seed)\n",
    "    random.seed(seed)\n",
    "    \n",
    "    # Generate class A data\n",
    "    classA_data = []\n",
    "    for center in classA_centers:\n",
    "        cluster = np.random.randn(classA_size, 2) * std + center\n",
    "        classA_data.append(cluster)\n",
    "    classA = np.concatenate(classA_data)\n",
    "    \n",
    "    # Generate class B data  \n",
    "    classB = np.random.randn(classB_size, 2) * std + classB_center\n",
    "    \n",
    "    # Combine and shuffle\n",
    "    inputs = np.concatenate((classA, classB))\n",
    "    targets = np.concatenate((\n",
    "        np.ones(classA.shape[0]),\n",
    "        -np.ones(classB.shape[0])\n",
    "    ))\n",
    "    \n",
    "    N = inputs.shape[0]\n",
    "    perm = list(range(N))\n",
    "    random.shuffle(perm)\n",
    "    inputs, targets = inputs[perm, :], targets[perm]\n",
    "    \n",
    "    return inputs, targets, classA, classB, N, std\n",
    "# Default\n",
    "inputs, targets, classA, classB, N, std = generate_data([[1.5, 0.5], [-1.5, 0.5]], [0.0, -0.5])\n",
    "\n",
    "# Hard separation - move classes closer together  \n",
    "# inputs, targets, classA, classB, N, std = generate_data([[0.8, 0.2], [-0.8, 0.2]], [0.0, -0.2])\n",
    "\n",
    "# Overlapping - same centers, bigger std\n",
    "# inputs, targets, classA, classB, N, std = generate_data([[1.0, 0.5], [-1.0, 0.5]], [0.0, -0.5], std=0.5)\n",
    "\n",
    "# Different sizes - make class A smaller\n",
    "# inputs, targets, classA, classB, N, std = generate_data([[1.5, 0.5], [-1.5, 1.5]], [0.0, -0.5], classA_size=15, classB_size=30)"
   ]
  },
  {
   "cell_type": "markdown",
   "id": "4ef5a9b5-f837-4bbe-b3ac-1471506443d7",
   "metadata": {
    "editable": true,
    "slideshow": {
     "slide_type": ""
    },
    "tags": []
   },
   "source": [
    "## Plotting"
   ]
  },
  {
   "cell_type": "code",
   "execution_count": 47,
   "id": "c32d6b9f-ecc4-4401-b3ce-6591d8424c7c",
   "metadata": {},
   "outputs": [
    {
     "data": {
      "image/png": "[encoded data removed]",
      "text/plain": [
       "<Figure size 640x480 with 1 Axes>"
      ]
     },
     "metadata": {},
     "output_type": "display_data"
    }
   ],
   "source": [
    "plt.plot([p[0] for p in classA], [p[1] for p in classA], 'b.')\n",
    "plt.plot([p[0] for p in classB], [p[1] for p in classB], 'r.')\n",
    "plt.axis('equal')\n",
    "# plt.savefig('svmplot.pdf') # Save a copy in a file\n",
    "plt.show()"
   ]
  },
  {
   "cell_type": "markdown",
   "id": "4a05ef88-6b9a-4765-854d-3f7caa5e4419",
   "metadata": {},
   "source": [
    "## Kernal Functions & Choose a kernel"
   ]
  },
  {
   "cell_type": "code",
   "execution_count": 48,
   "id": "188ec2e1-1fd3-4be2-8aac-390e5fa6cba8",
   "metadata": {},
   "outputs": [],
   "source": [
    "def linear_kernel(x, y):\n",
    "    return np.dot(x, y)\n",
    "\n",
    "def poly_kernel(x, y, p=2):\n",
    "    return (np.dot(x, y) + 1.0)**p\n",
    "\n",
    "def rbf_kernel(x, y, sigma=3):\n",
    "    # The parameter is used to control the smoothness of the boundary\n",
    "    diff = x - y\n",
    "    return np.exp(-np.dot(diff, diff) / (2*sigma**2))\n",
    "\n",
    "kernel = linear_kernel "
   ]
  },
  {
   "cell_type": "markdown",
   "id": "2127e550-9275-40e4-9d45-d33b9df9967a",
   "metadata": {},
   "source": [
    "## Pre-process"
   ]
  },
  {
   "cell_type": "code",
   "execution_count": 49,
   "id": "4ef09d09-0e6a-4e3f-8fbd-8a198e8eb347",
   "metadata": {},
   "outputs": [],
   "source": [
    "# For efficiency, pre-compute the matrix \n",
    "P = np.zeros((N, N))\n",
    "for i in range(N):\n",
    "    for j in range(N):\n",
    "        P[i, j] = targets[i] * targets[j] * kernel(inputs[i], inputs[j])"
   ]
  },
  {
   "cell_type": "code",
   "execution_count": 50,
   "id": "f3a5015e-4df1-41f0-ac06-4a7ee3d5826f",
   "metadata": {},
   "outputs": [],
   "source": [
    "# Define the objective function (Equation 4) and the equality constraint function (Equation 10)\n",
    "def objective(alphas):\n",
    "    return 0.5 * np.dot(alphas, np.dot(P, alphas)) - np.sum(alphas)\n",
    "\n",
    "def zerofun(alphas):\n",
    "    return np.dot(alphas, targets)"
   ]
  },
  {
   "cell_type": "markdown",
   "id": "174ebfbc-7492-47e9-9da7-7d6aad37fb30",
   "metadata": {},
   "source": [
    "## Solve the optimization problem"
   ]
  },
  {
   "cell_type": "code",
   "execution_count": 51,
   "id": "fa6a7b70-2fcc-488f-8f9c-58d60f88cc18",
   "metadata": {},
   "outputs": [],
   "source": [
    "# Slack parameter\n",
    "C = 1  # Scalar for soft margin\n",
    "# C = None # None for hard margin\n",
    "start_alphas = np.zeros(N)\n",
    "# To have an upper constraint\n",
    "bounds = [(0, C) for b in range(N)]\n"
   ]
  },
  {
   "cell_type": "code",
   "execution_count": 52,
   "id": "4afe6604-e1d4-470e-b606-d2ed55c36f97",
   "metadata": {},
   "outputs": [
    {
     "name": "stdout",
     "output_type": "stream",
     "text": [
      "Optimization successful: True when std is 0.4 and C is 1\n"
     ]
    }
   ],
   "source": [
    "constraints = {'type': 'eq', 'fun': zerofun}\n",
    "\n",
    "ret = minimize(objective, start_alphas, bounds=bounds, constraints=constraints)\n",
    "alphas = ret['x']\n",
    "success = ret['success']\n",
    "# The string 'success' instead holds a boolean representing if the optimizer has found a solution\n",
    "if (not success): \n",
    "    raise ValueError(f'Cannot find optimizing solution when std is {std} and C is {C}')\n",
    "print(f\"Optimization successful: {success} when std is {std} and C is {C}\")"
   ]
  },
  {
   "cell_type": "code",
   "execution_count": 53,
   "id": "51b72331-00d4-4a39-b3b7-93f2d2293d6b",
   "metadata": {},
   "outputs": [
    {
     "name": "stdout",
     "output_type": "stream",
     "text": [
      "Number of support vectors: 16\n",
      "Value of b: -0.17563440037233513\n"
     ]
    }
   ],
   "source": [
    "# A small threshold for floating-point values\n",
    "threshold = 1e-5\n",
    "support_vectors_indices = np.where(alphas > threshold)[0]\n",
    "\n",
    "# Save support vectors\n",
    "nonzero_inputs = inputs[support_vectors_indices]\n",
    "nonzero_targets = targets[support_vectors_indices]\n",
    "nonzero_alphas = alphas[support_vectors_indices]\n",
    "nonzero = [(alphas[i], inputs[i], targets[i]) for i in range(N) if abs(alphas[i]) > 10e-5]\n",
    "# Calculate b using a support vector (Eq. 7)\n",
    "b = 0\n",
    "for i in range(len(nonzero_alphas)):\n",
    "    # Find a support vector with alpha < C for robust calculation\n",
    "    if C is None or nonzero_alphas[i] < C:\n",
    "        b = np.sum(nonzero_alphas * nonzero_targets * np.array([kernel(nonzero_inputs[i], sv) for sv in nonzero_inputs])) - nonzero_targets[i]\n",
    "        break\n",
    "\n",
    "print(f\"Number of support vectors: {len(nonzero_inputs)}\")\n",
    "print(f\"Value of b: {b}\")"
   ]
  },
  {
   "cell_type": "code",
   "execution_count": 54,
   "id": "0830b363-c7c1-4ffd-840f-95be3f1067ba",
   "metadata": {},
   "outputs": [],
   "source": [
    "def indicator(s):\n",
    "    # s should be a single 2D point (e.g., a numpy array of shape (2,))\n",
    "    total = 0\n",
    "    for i in range(len(nonzero_alphas)):\n",
    "        total += nonzero_alphas[i] * nonzero_targets[i] * kernel(s, nonzero_inputs[i])\n",
    "    return total - b"
   ]
  },
  {
   "cell_type": "code",
   "execution_count": 55,
   "id": "b172ebc4-7d8c-4af7-9eb0-37abaaeecb30",
   "metadata": {},
   "outputs": [
    {
     "data": {
      "image/png": "[encoded data removed]",
      "text/plain": [
       "<Figure size 640x480 with 1 Axes>"
      ]
     },
     "metadata": {},
     "output_type": "display_data"
    }
   ],
   "source": [
    "# Plot contour\n",
    "xgrid = np.linspace(-5, 5)\n",
    "ygrid = np.linspace(-4, 4)\n",
    "grid = np.array([[indicator(np.array([x, y])) for x in xgrid] for y in ygrid])\n",
    "\n",
    "# Plot the data points again\n",
    "plt.plot([p[0] for p in classA], [p[1] for p in classA], 'b.', label='Class A')\n",
    "plt.plot([p[0] for p in classB], [p[1] for p in classB], 'r.', label='Class B')\n",
    "plt.axis('equal')\n",
    "\n",
    "# Highlight support vectors\n",
    "plt.plot([p[0] for p in nonzero_inputs], [p[1] for p in nonzero_inputs], 'go',\n",
    "         label='Support Vectors', markersize=10, fillstyle='none')\n",
    "\n",
    "# Plot the decision boundary and margins\n",
    "plt.contour(xgrid, ygrid, grid, (-1.0, 0.0, 1.0),\n",
    "            colors=('red', 'black', 'blue'), linewidths=(1, 3, 1))\n",
    "plt.legend()\n",
    "plt.title(f\"Decision Boundary and Margins, C: {C}\")\n",
    "# plt.text(0.8,0.95, 'Linear Kernel', \n",
    "#          transform=plt.gca().transAxes, \n",
    "#          bbox=dict(boxstyle='round', facecolor='wheat'))\n",
    "# plt.text(0.72,0.95, 'Poly Kernel, p = 2', \n",
    "        #  transform=plt.gca().transAxes, \n",
    "        #  bbox=dict(boxstyle='round', facecolor='wheat'))\n",
    "plt.text(0.67,0.95, 'RBF Kernel, sigma = 3', \n",
    "         transform=plt.gca().transAxes, \n",
    "         bbox=dict(boxstyle='round', facecolor='wheat'))\n",
    "plt.xlabel(\"x-axis\")\n",
    "plt.ylabel(\"y-axis\")\n",
    "plt.savefig('poly.pdf') # Save a copy in a file\n",
    "plt.show()\n"
   ]
  },
  {
   "cell_type": "code",
   "execution_count": null,
   "id": "8f88ebca",
   "metadata": {},
   "outputs": [],
   "source": [
    "\n"
   ]
  }
 ],
 "metadata": {
  "kernelspec": {
   "display_name": "Python (dd2421-svm)",
   "language": "python",
   "name": "dd2421-svm"
  },
  "language_info": {
   "codemirror_mode": {
    "name": "ipython",
    "version": 3
   },
   "file_extension": ".py",
   "mimetype": "text/x-python",
   "name": "python",
   "nbconvert_exporter": "python",
   "pygments_lexer": "ipython3",
   "version": "3.9.13"
  }
 },
 "nbformat": 4,
 "nbformat_minor": 5
}
